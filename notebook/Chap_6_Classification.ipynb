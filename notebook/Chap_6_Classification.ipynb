{
  "cells": [
    {
      "metadata": {
        "collapsed": true
      },
      "cell_type": "markdown",
      "source": "# Chapter 06 - Classification Example\n\nShows how to use Azure Machine Learning AutoML for classification"
    },
    {
      "metadata": {},
      "cell_type": "markdown",
      "source": "## Installation of relevant packages"
    },
    {
      "metadata": {
        "ExecuteTime": {
          "start_time": "2019-03-22T18:45:34.17002Z",
          "end_time": "2019-03-22T18:45:38.982543Z"
        },
        "trusted": true
      },
      "cell_type": "code",
      "source": "# skip this step if you already have seaborn installed.\n!pip install seaborn",
      "execution_count": 1,
      "outputs": [
        {
          "output_type": "stream",
          "text": "Requirement already satisfied: seaborn in /home/nbuser/anaconda3_501/lib/python3.6/site-packages (0.9.0)\nRequirement already satisfied: scipy>=0.14.0 in /home/nbuser/anaconda3_501/lib/python3.6/site-packages (from seaborn) (1.1.0)\nRequirement already satisfied: matplotlib>=1.4.3 in /home/nbuser/anaconda3_501/lib/python3.6/site-packages (from seaborn) (3.0.0)\nRequirement already satisfied: pandas>=0.15.2 in /home/nbuser/anaconda3_501/lib/python3.6/site-packages (from seaborn) (0.22.0)\nRequirement already satisfied: numpy>=1.9.3 in /home/nbuser/anaconda3_501/lib/python3.6/site-packages (from seaborn) (1.14.6)\nRequirement already satisfied: cycler>=0.10 in /home/nbuser/anaconda3_501/lib/python3.6/site-packages (from matplotlib>=1.4.3->seaborn) (0.10.0)\nRequirement already satisfied: kiwisolver>=1.0.1 in /home/nbuser/anaconda3_501/lib/python3.6/site-packages (from matplotlib>=1.4.3->seaborn) (1.0.1)\nRequirement already satisfied: pyparsing!=2.0.4,!=2.1.2,!=2.1.6,>=2.0.1 in /home/nbuser/anaconda3_501/lib/python3.6/site-packages (from matplotlib>=1.4.3->seaborn) (2.3.0)\nRequirement already satisfied: python-dateutil>=2.1 in /home/nbuser/anaconda3_501/lib/python3.6/site-packages (from matplotlib>=1.4.3->seaborn) (2.7.5)\nRequirement already satisfied: pytz>=2011k in /home/nbuser/anaconda3_501/lib/python3.6/site-packages (from pandas>=0.15.2->seaborn) (2018.7)\nRequirement already satisfied: six in /home/nbuser/anaconda3_501/lib/python3.6/site-packages (from cycler>=0.10->matplotlib>=1.4.3->seaborn) (1.11.0)\nRequirement already satisfied: setuptools in /home/nbuser/anaconda3_501/lib/python3.6/site-packages (from kiwisolver>=1.0.1->matplotlib>=1.4.3->seaborn) (40.8.0)\n",
          "name": "stdout"
        }
      ]
    },
    {
      "metadata": {},
      "cell_type": "markdown",
      "source": "## Getting Ready"
    },
    {
      "metadata": {
        "ExecuteTime": {
          "start_time": "2019-03-22T18:45:42.219237Z",
          "end_time": "2019-03-22T18:45:43.405143Z"
        },
        "trusted": true
      },
      "cell_type": "code",
      "source": "import numpy as np\nimport pandas as pd\nfrom sklearn.model_selection import train_test_split\nimport logging",
      "execution_count": 2,
      "outputs": []
    },
    {
      "metadata": {
        "ExecuteTime": {
          "start_time": "2019-03-22T18:45:43.409106Z",
          "end_time": "2019-03-22T18:45:52.609365Z"
        },
        "trusted": true
      },
      "cell_type": "code",
      "source": "# import AzureML SDK\nimport azureml.core\nfrom azureml.core.experiment import Experiment\nfrom azureml.core.workspace import Workspace\nfrom azureml.train.automl import AutoMLConfig",
      "execution_count": 3,
      "outputs": []
    },
    {
      "metadata": {},
      "cell_type": "markdown",
      "source": "## Preparing the Azure Machine Learning Workspace\n\nIgnore this section if the workspace has already been created in the Azure portal"
    },
    {
      "metadata": {
        "ExecuteTime": {
          "start_time": "2019-03-22T19:23:11.77743Z",
          "end_time": "2019-03-22T19:23:12.202019Z"
        },
        "trusted": true
      },
      "cell_type": "code",
      "source": "ws = Workspace.from_config()\n\nworkspace_info = {}\nworkspace_info['SDK version'] = azureml.core.VERSION\nworkspace_info['Subscription ID'] = ws.subscription_id\nworkspace_info['Workspace Name'] = ws.name\nworkspace_info['Resource Group'] = ws.resource_group\nworkspace_info['Location'] = ws.location\npd.set_option('display.max_colwidth', -1)\nworkspace_info = pd.DataFrame(data = workspace_info, index = [''])\nworkspace_info.T",
      "execution_count": 50,
      "outputs": [
        {
          "output_type": "stream",
          "text": "Found the config file in: /home/nbuser/library/config.json\n",
          "name": "stdout"
        },
        {
          "output_type": "execute_result",
          "execution_count": 50,
          "data": {
            "text/html": "<div>\n<style scoped>\n    .dataframe tbody tr th:only-of-type {\n        vertical-align: middle;\n    }\n\n    .dataframe tbody tr th {\n        vertical-align: top;\n    }\n\n    .dataframe thead th {\n        text-align: right;\n    }\n</style>\n<table border=\"1\" class=\"dataframe\">\n  <thead>\n    <tr style=\"text-align: right;\">\n      <th></th>\n      <th></th>\n    </tr>\n  </thead>\n  <tbody>\n    <tr>\n      <th>Location</th>\n      <td>westus2</td>\n    </tr>\n    <tr>\n      <th>Resource Group</th>\n      <td>oreillybook</td>\n    </tr>\n    <tr>\n      <th>SDK version</th>\n      <td>1.0.17</td>\n    </tr>\n    <tr>\n      <th>Subscription ID</th>\n      <td>&lt;Replace with actual subscription ID&gt;</td>\n    </tr>\n    <tr>\n      <th>Workspace Name</th>\n      <td>automl-tutorials</td>\n    </tr>\n  </tbody>\n</table>\n</div>",
            "text/plain": "                                                      \nLocation         westus2                              \nResource Group   oreillybook                          \nSDK version      1.0.17                               \nSubscription ID  <Replace with actual subscription ID>\nWorkspace Name   automl-tutorials                     "
          },
          "metadata": {}
        }
      ]
    },
    {
      "metadata": {
        "ExecuteTime": {
          "start_time": "2019-03-22T18:54:31.796029Z",
          "end_time": "2019-03-22T18:54:31.800252Z"
        },
        "trusted": true
      },
      "cell_type": "code",
      "source": "# Choose a name for the experiment and specify the project folder.\nexperiment_name = 'automl-classification'\nproject_folder = './book/automl-classification'\n\nexperiment = Experiment(ws, experiment_name)\n",
      "execution_count": 17,
      "outputs": []
    },
    {
      "metadata": {
        "ExecuteTime": {
          "start_time": "2019-03-08T22:19:56.344684Z",
          "end_time": "2019-03-08T22:19:56.365824Z"
        }
      },
      "cell_type": "markdown",
      "source": "## Data Preparation"
    },
    {
      "metadata": {
        "ExecuteTime": {
          "start_time": "2019-03-22T18:54:33.171969Z",
          "end_time": "2019-03-22T18:54:33.18047Z"
        },
        "trusted": true
      },
      "cell_type": "code",
      "source": "#define the column\ncolumns = ['status_checking_acc', 'duration_months', 'credit_history', 'purpose', 'credit_amount',\n           'saving_acc_bonds', 'present_emp_since','installment_rate', 'personal_status','other_debtors', \n           'residing_since', 'property', 'age_years','inst_plans', 'housing', 'num_existing_credits',\n           'job', 'dependents', 'telephone', 'foreign_worker', 'status']",
      "execution_count": 18,
      "outputs": []
    },
    {
      "metadata": {
        "ExecuteTime": {
          "start_time": "2019-03-22T18:54:33.726188Z",
          "end_time": "2019-03-22T18:54:34.049733Z"
        },
        "trusted": true
      },
      "cell_type": "code",
      "source": "creditg_df = pd.read_csv('https://archive.ics.uci.edu/ml/machine-learning-databases/statlog/german/german.data', delim_whitespace = True, header = None )\ncreditg_df.columns = columns\ncreditg_df.head()",
      "execution_count": 19,
      "outputs": [
        {
          "output_type": "execute_result",
          "execution_count": 19,
          "data": {
            "text/html": "<div>\n<style scoped>\n    .dataframe tbody tr th:only-of-type {\n        vertical-align: middle;\n    }\n\n    .dataframe tbody tr th {\n        vertical-align: top;\n    }\n\n    .dataframe thead th {\n        text-align: right;\n    }\n</style>\n<table border=\"1\" class=\"dataframe\">\n  <thead>\n    <tr style=\"text-align: right;\">\n      <th></th>\n      <th>status_checking_acc</th>\n      <th>duration_months</th>\n      <th>credit_history</th>\n      <th>purpose</th>\n      <th>credit_amount</th>\n      <th>saving_acc_bonds</th>\n      <th>present_emp_since</th>\n      <th>installment_rate</th>\n      <th>personal_status</th>\n      <th>other_debtors</th>\n      <th>...</th>\n      <th>property</th>\n      <th>age_years</th>\n      <th>inst_plans</th>\n      <th>housing</th>\n      <th>num_existing_credits</th>\n      <th>job</th>\n      <th>dependents</th>\n      <th>telephone</th>\n      <th>foreign_worker</th>\n      <th>status</th>\n    </tr>\n  </thead>\n  <tbody>\n    <tr>\n      <th>0</th>\n      <td>A11</td>\n      <td>6</td>\n      <td>A34</td>\n      <td>A43</td>\n      <td>1169</td>\n      <td>A65</td>\n      <td>A75</td>\n      <td>4</td>\n      <td>A93</td>\n      <td>A101</td>\n      <td>...</td>\n      <td>A121</td>\n      <td>67</td>\n      <td>A143</td>\n      <td>A152</td>\n      <td>2</td>\n      <td>A173</td>\n      <td>1</td>\n      <td>A192</td>\n      <td>A201</td>\n      <td>1</td>\n    </tr>\n    <tr>\n      <th>1</th>\n      <td>A12</td>\n      <td>48</td>\n      <td>A32</td>\n      <td>A43</td>\n      <td>5951</td>\n      <td>A61</td>\n      <td>A73</td>\n      <td>2</td>\n      <td>A92</td>\n      <td>A101</td>\n      <td>...</td>\n      <td>A121</td>\n      <td>22</td>\n      <td>A143</td>\n      <td>A152</td>\n      <td>1</td>\n      <td>A173</td>\n      <td>1</td>\n      <td>A191</td>\n      <td>A201</td>\n      <td>2</td>\n    </tr>\n    <tr>\n      <th>2</th>\n      <td>A14</td>\n      <td>12</td>\n      <td>A34</td>\n      <td>A46</td>\n      <td>2096</td>\n      <td>A61</td>\n      <td>A74</td>\n      <td>2</td>\n      <td>A93</td>\n      <td>A101</td>\n      <td>...</td>\n      <td>A121</td>\n      <td>49</td>\n      <td>A143</td>\n      <td>A152</td>\n      <td>1</td>\n      <td>A172</td>\n      <td>2</td>\n      <td>A191</td>\n      <td>A201</td>\n      <td>1</td>\n    </tr>\n    <tr>\n      <th>3</th>\n      <td>A11</td>\n      <td>42</td>\n      <td>A32</td>\n      <td>A42</td>\n      <td>7882</td>\n      <td>A61</td>\n      <td>A74</td>\n      <td>2</td>\n      <td>A93</td>\n      <td>A103</td>\n      <td>...</td>\n      <td>A122</td>\n      <td>45</td>\n      <td>A143</td>\n      <td>A153</td>\n      <td>1</td>\n      <td>A173</td>\n      <td>2</td>\n      <td>A191</td>\n      <td>A201</td>\n      <td>1</td>\n    </tr>\n    <tr>\n      <th>4</th>\n      <td>A11</td>\n      <td>24</td>\n      <td>A33</td>\n      <td>A40</td>\n      <td>4870</td>\n      <td>A61</td>\n      <td>A73</td>\n      <td>3</td>\n      <td>A93</td>\n      <td>A101</td>\n      <td>...</td>\n      <td>A124</td>\n      <td>53</td>\n      <td>A143</td>\n      <td>A153</td>\n      <td>2</td>\n      <td>A173</td>\n      <td>2</td>\n      <td>A191</td>\n      <td>A201</td>\n      <td>2</td>\n    </tr>\n  </tbody>\n</table>\n<p>5 rows × 21 columns</p>\n</div>",
            "text/plain": "  status_checking_acc  duration_months credit_history purpose  credit_amount  \\\n0  A11                 6                A34            A43     1169            \n1  A12                 48               A32            A43     5951            \n2  A14                 12               A34            A46     2096            \n3  A11                 42               A32            A42     7882            \n4  A11                 24               A33            A40     4870            \n\n  saving_acc_bonds present_emp_since  installment_rate personal_status  \\\n0  A65              A75               4                 A93              \n1  A61              A73               2                 A92              \n2  A61              A74               2                 A93              \n3  A61              A74               2                 A93              \n4  A61              A73               3                 A93              \n\n  other_debtors  ...    property age_years  inst_plans housing  \\\n0  A101          ...    A121      67        A143        A152     \n1  A101          ...    A121      22        A143        A152     \n2  A101          ...    A121      49        A143        A152     \n3  A103          ...    A122      45        A143        A153     \n4  A101          ...    A124      53        A143        A153     \n\n  num_existing_credits   job dependents  telephone foreign_worker status  \n0  2                    A173  1          A192       A201           1      \n1  1                    A173  1          A191       A201           2      \n2  1                    A172  2          A191       A201           1      \n3  1                    A173  2          A191       A201           1      \n4  2                    A173  2          A191       A201           2      \n\n[5 rows x 21 columns]"
          },
          "metadata": {}
        }
      ]
    },
    {
      "metadata": {
        "ExecuteTime": {
          "start_time": "2019-03-22T18:54:34.605244Z",
          "end_time": "2019-03-22T18:54:34.616008Z"
        },
        "trusted": true
      },
      "cell_type": "code",
      "source": "# Get the unique values in the Status Column\ncreditg_df.status = creditg_df.status - 1\n\ncreditg_df['status'].unique()",
      "execution_count": 20,
      "outputs": [
        {
          "output_type": "execute_result",
          "execution_count": 20,
          "data": {
            "text/plain": "array([0, 1])"
          },
          "metadata": {}
        }
      ]
    },
    {
      "metadata": {
        "ExecuteTime": {
          "start_time": "2019-03-22T18:54:35.355318Z",
          "end_time": "2019-03-22T18:54:35.400663Z"
        },
        "trusted": true
      },
      "cell_type": "code",
      "source": "#creditg_df['status'] =  creditg_df.status.astype(bool)\ncreditg_df.head()",
      "execution_count": 21,
      "outputs": [
        {
          "output_type": "execute_result",
          "execution_count": 21,
          "data": {
            "text/html": "<div>\n<style scoped>\n    .dataframe tbody tr th:only-of-type {\n        vertical-align: middle;\n    }\n\n    .dataframe tbody tr th {\n        vertical-align: top;\n    }\n\n    .dataframe thead th {\n        text-align: right;\n    }\n</style>\n<table border=\"1\" class=\"dataframe\">\n  <thead>\n    <tr style=\"text-align: right;\">\n      <th></th>\n      <th>status_checking_acc</th>\n      <th>duration_months</th>\n      <th>credit_history</th>\n      <th>purpose</th>\n      <th>credit_amount</th>\n      <th>saving_acc_bonds</th>\n      <th>present_emp_since</th>\n      <th>installment_rate</th>\n      <th>personal_status</th>\n      <th>other_debtors</th>\n      <th>...</th>\n      <th>property</th>\n      <th>age_years</th>\n      <th>inst_plans</th>\n      <th>housing</th>\n      <th>num_existing_credits</th>\n      <th>job</th>\n      <th>dependents</th>\n      <th>telephone</th>\n      <th>foreign_worker</th>\n      <th>status</th>\n    </tr>\n  </thead>\n  <tbody>\n    <tr>\n      <th>0</th>\n      <td>A11</td>\n      <td>6</td>\n      <td>A34</td>\n      <td>A43</td>\n      <td>1169</td>\n      <td>A65</td>\n      <td>A75</td>\n      <td>4</td>\n      <td>A93</td>\n      <td>A101</td>\n      <td>...</td>\n      <td>A121</td>\n      <td>67</td>\n      <td>A143</td>\n      <td>A152</td>\n      <td>2</td>\n      <td>A173</td>\n      <td>1</td>\n      <td>A192</td>\n      <td>A201</td>\n      <td>0</td>\n    </tr>\n    <tr>\n      <th>1</th>\n      <td>A12</td>\n      <td>48</td>\n      <td>A32</td>\n      <td>A43</td>\n      <td>5951</td>\n      <td>A61</td>\n      <td>A73</td>\n      <td>2</td>\n      <td>A92</td>\n      <td>A101</td>\n      <td>...</td>\n      <td>A121</td>\n      <td>22</td>\n      <td>A143</td>\n      <td>A152</td>\n      <td>1</td>\n      <td>A173</td>\n      <td>1</td>\n      <td>A191</td>\n      <td>A201</td>\n      <td>1</td>\n    </tr>\n    <tr>\n      <th>2</th>\n      <td>A14</td>\n      <td>12</td>\n      <td>A34</td>\n      <td>A46</td>\n      <td>2096</td>\n      <td>A61</td>\n      <td>A74</td>\n      <td>2</td>\n      <td>A93</td>\n      <td>A101</td>\n      <td>...</td>\n      <td>A121</td>\n      <td>49</td>\n      <td>A143</td>\n      <td>A152</td>\n      <td>1</td>\n      <td>A172</td>\n      <td>2</td>\n      <td>A191</td>\n      <td>A201</td>\n      <td>0</td>\n    </tr>\n    <tr>\n      <th>3</th>\n      <td>A11</td>\n      <td>42</td>\n      <td>A32</td>\n      <td>A42</td>\n      <td>7882</td>\n      <td>A61</td>\n      <td>A74</td>\n      <td>2</td>\n      <td>A93</td>\n      <td>A103</td>\n      <td>...</td>\n      <td>A122</td>\n      <td>45</td>\n      <td>A143</td>\n      <td>A153</td>\n      <td>1</td>\n      <td>A173</td>\n      <td>2</td>\n      <td>A191</td>\n      <td>A201</td>\n      <td>0</td>\n    </tr>\n    <tr>\n      <th>4</th>\n      <td>A11</td>\n      <td>24</td>\n      <td>A33</td>\n      <td>A40</td>\n      <td>4870</td>\n      <td>A61</td>\n      <td>A73</td>\n      <td>3</td>\n      <td>A93</td>\n      <td>A101</td>\n      <td>...</td>\n      <td>A124</td>\n      <td>53</td>\n      <td>A143</td>\n      <td>A153</td>\n      <td>2</td>\n      <td>A173</td>\n      <td>2</td>\n      <td>A191</td>\n      <td>A201</td>\n      <td>1</td>\n    </tr>\n  </tbody>\n</table>\n<p>5 rows × 21 columns</p>\n</div>",
            "text/plain": "  status_checking_acc  duration_months credit_history purpose  credit_amount  \\\n0  A11                 6                A34            A43     1169            \n1  A12                 48               A32            A43     5951            \n2  A14                 12               A34            A46     2096            \n3  A11                 42               A32            A42     7882            \n4  A11                 24               A33            A40     4870            \n\n  saving_acc_bonds present_emp_since  installment_rate personal_status  \\\n0  A65              A75               4                 A93              \n1  A61              A73               2                 A92              \n2  A61              A74               2                 A93              \n3  A61              A74               2                 A93              \n4  A61              A73               3                 A93              \n\n  other_debtors  ...    property age_years  inst_plans housing  \\\n0  A101          ...    A121      67        A143        A152     \n1  A101          ...    A121      22        A143        A152     \n2  A101          ...    A121      49        A143        A152     \n3  A103          ...    A122      45        A143        A153     \n4  A101          ...    A124      53        A143        A153     \n\n  num_existing_credits   job dependents  telephone foreign_worker status  \n0  2                    A173  1          A192       A201           0      \n1  1                    A173  1          A191       A201           1      \n2  1                    A172  2          A191       A201           0      \n3  1                    A173  2          A191       A201           0      \n4  2                    A173  2          A191       A201           1      \n\n[5 rows x 21 columns]"
          },
          "metadata": {}
        }
      ]
    },
    {
      "metadata": {
        "ExecuteTime": {
          "start_time": "2019-03-22T18:54:36.348529Z",
          "end_time": "2019-03-22T18:54:36.354868Z"
        },
        "trusted": true
      },
      "cell_type": "code",
      "source": "# Get the label column, and remove the label column from the dataframe\ntarget = creditg_df[\"status\"]\n\n# when axis is 1, columns specified are dropped\ncreditg_df =  creditg_df.drop(labels='status',axis=1) ",
      "execution_count": 22,
      "outputs": []
    },
    {
      "metadata": {
        "ExecuteTime": {
          "start_time": "2019-03-22T18:54:38.124564Z",
          "end_time": "2019-03-22T18:54:38.134584Z"
        },
        "trusted": true
      },
      "cell_type": "code",
      "source": "# Split into train and test data\nX_train, X_test, y_train, y_test = train_test_split(creditg_df, target, test_size=0.3)\n\n# convert y_train to a numpy array\n \ny_train = y_train.values\ny_test = y_test.values",
      "execution_count": 23,
      "outputs": []
    },
    {
      "metadata": {
        "ExecuteTime": {
          "start_time": "2019-03-22T18:54:38.666891Z",
          "end_time": "2019-03-22T18:54:38.680925Z"
        },
        "trusted": true
      },
      "cell_type": "code",
      "source": "# Understand the variables\ncreditg_df.info()",
      "execution_count": 24,
      "outputs": [
        {
          "output_type": "stream",
          "text": "<class 'pandas.core.frame.DataFrame'>\nRangeIndex: 1000 entries, 0 to 999\nData columns (total 20 columns):\nstatus_checking_acc     1000 non-null object\nduration_months         1000 non-null int64\ncredit_history          1000 non-null object\npurpose                 1000 non-null object\ncredit_amount           1000 non-null int64\nsaving_acc_bonds        1000 non-null object\npresent_emp_since       1000 non-null object\ninstallment_rate        1000 non-null int64\npersonal_status         1000 non-null object\nother_debtors           1000 non-null object\nresiding_since          1000 non-null int64\nproperty                1000 non-null object\nage_years               1000 non-null int64\ninst_plans              1000 non-null object\nhousing                 1000 non-null object\nnum_existing_credits    1000 non-null int64\njob                     1000 non-null object\ndependents              1000 non-null int64\ntelephone               1000 non-null object\nforeign_worker          1000 non-null object\ndtypes: int64(7), object(13)\nmemory usage: 156.3+ KB\n",
          "name": "stdout"
        }
      ]
    },
    {
      "metadata": {
        "ExecuteTime": {
          "start_time": "2019-03-22T18:54:39.421344Z",
          "end_time": "2019-03-22T18:54:39.42519Z"
        },
        "trusted": true
      },
      "cell_type": "code",
      "source": "import matplotlib.pyplot as plt\nimport seaborn as sn\n",
      "execution_count": 25,
      "outputs": []
    },
    {
      "metadata": {
        "ExecuteTime": {
          "start_time": "2019-03-22T18:54:42.787503Z",
          "end_time": "2019-03-22T18:54:43.288654Z"
        },
        "trusted": true
      },
      "cell_type": "code",
      "source": "sn.distplot(creditg_df.credit_amount)\nplt.title(\"Distribution of Credit Amount\")\nplt.ylabel(\"Frequency\")",
      "execution_count": 26,
      "outputs": [
        {
          "output_type": "execute_result",
          "execution_count": 26,
          "data": {
            "text/plain": "Text(0, 0.5, 'Frequency')"
          },
          "metadata": {}
        },
        {
          "output_type": "display_data",
          "data": {
            "image/png": "[encoded data removed]",
            "text/plain": "<Figure size 432x288 with 1 Axes>"
          },
          "metadata": {
            "needs_background": "light"
          }
        }
      ]
    },
    {
      "metadata": {
        "ExecuteTime": {
          "start_time": "2019-03-22T18:54:43.317406Z",
          "end_time": "2019-03-22T18:54:43.647374Z"
        },
        "trusted": true
      },
      "cell_type": "code",
      "source": "sn.distplot(target, kde=False, rug=True )\nplt.title(\"Credit Risk\")\nplt.ylabel(\"Frequency\")",
      "execution_count": 27,
      "outputs": [
        {
          "output_type": "execute_result",
          "execution_count": 27,
          "data": {
            "text/plain": "Text(0, 0.5, 'Frequency')"
          },
          "metadata": {}
        },
        {
          "output_type": "display_data",
          "data": {
            "image/png": "[encoded data removed]",
            "text/plain": "<Figure size 432x288 with 1 Axes>"
          },
          "metadata": {
            "needs_background": "light"
          }
        }
      ]
    },
    {
      "metadata": {},
      "cell_type": "markdown",
      "source": "## Using AutoML to train the model"
    },
    {
      "metadata": {
        "ExecuteTime": {
          "start_time": "2019-03-22T19:03:09.595434Z",
          "end_time": "2019-03-22T19:03:09.637475Z"
        },
        "trusted": true
      },
      "cell_type": "code",
      "source": "X_train.head()",
      "execution_count": 28,
      "outputs": [
        {
          "output_type": "execute_result",
          "execution_count": 28,
          "data": {
            "text/html": "<div>\n<style scoped>\n    .dataframe tbody tr th:only-of-type {\n        vertical-align: middle;\n    }\n\n    .dataframe tbody tr th {\n        vertical-align: top;\n    }\n\n    .dataframe thead th {\n        text-align: right;\n    }\n</style>\n<table border=\"1\" class=\"dataframe\">\n  <thead>\n    <tr style=\"text-align: right;\">\n      <th></th>\n      <th>status_checking_acc</th>\n      <th>duration_months</th>\n      <th>credit_history</th>\n      <th>purpose</th>\n      <th>credit_amount</th>\n      <th>saving_acc_bonds</th>\n      <th>present_emp_since</th>\n      <th>installment_rate</th>\n      <th>personal_status</th>\n      <th>other_debtors</th>\n      <th>residing_since</th>\n      <th>property</th>\n      <th>age_years</th>\n      <th>inst_plans</th>\n      <th>housing</th>\n      <th>num_existing_credits</th>\n      <th>job</th>\n      <th>dependents</th>\n      <th>telephone</th>\n      <th>foreign_worker</th>\n    </tr>\n  </thead>\n  <tbody>\n    <tr>\n      <th>395</th>\n      <td>A12</td>\n      <td>39</td>\n      <td>A33</td>\n      <td>A46</td>\n      <td>11760</td>\n      <td>A62</td>\n      <td>A74</td>\n      <td>2</td>\n      <td>A93</td>\n      <td>A101</td>\n      <td>3</td>\n      <td>A124</td>\n      <td>32</td>\n      <td>A143</td>\n      <td>A151</td>\n      <td>1</td>\n      <td>A173</td>\n      <td>1</td>\n      <td>A192</td>\n      <td>A201</td>\n    </tr>\n    <tr>\n      <th>894</th>\n      <td>A14</td>\n      <td>18</td>\n      <td>A34</td>\n      <td>A43</td>\n      <td>1169</td>\n      <td>A65</td>\n      <td>A73</td>\n      <td>4</td>\n      <td>A93</td>\n      <td>A101</td>\n      <td>3</td>\n      <td>A122</td>\n      <td>29</td>\n      <td>A143</td>\n      <td>A152</td>\n      <td>2</td>\n      <td>A173</td>\n      <td>1</td>\n      <td>A192</td>\n      <td>A201</td>\n    </tr>\n    <tr>\n      <th>750</th>\n      <td>A11</td>\n      <td>6</td>\n      <td>A32</td>\n      <td>A42</td>\n      <td>428</td>\n      <td>A61</td>\n      <td>A75</td>\n      <td>2</td>\n      <td>A92</td>\n      <td>A101</td>\n      <td>1</td>\n      <td>A122</td>\n      <td>49</td>\n      <td>A141</td>\n      <td>A152</td>\n      <td>1</td>\n      <td>A173</td>\n      <td>1</td>\n      <td>A192</td>\n      <td>A201</td>\n    </tr>\n    <tr>\n      <th>757</th>\n      <td>A13</td>\n      <td>15</td>\n      <td>A34</td>\n      <td>A43</td>\n      <td>1271</td>\n      <td>A65</td>\n      <td>A73</td>\n      <td>3</td>\n      <td>A93</td>\n      <td>A101</td>\n      <td>4</td>\n      <td>A124</td>\n      <td>39</td>\n      <td>A143</td>\n      <td>A153</td>\n      <td>2</td>\n      <td>A173</td>\n      <td>1</td>\n      <td>A192</td>\n      <td>A201</td>\n    </tr>\n    <tr>\n      <th>515</th>\n      <td>A11</td>\n      <td>6</td>\n      <td>A34</td>\n      <td>A40</td>\n      <td>609</td>\n      <td>A61</td>\n      <td>A74</td>\n      <td>4</td>\n      <td>A92</td>\n      <td>A101</td>\n      <td>3</td>\n      <td>A122</td>\n      <td>37</td>\n      <td>A143</td>\n      <td>A152</td>\n      <td>2</td>\n      <td>A173</td>\n      <td>1</td>\n      <td>A191</td>\n      <td>A202</td>\n    </tr>\n  </tbody>\n</table>\n</div>",
            "text/plain": "    status_checking_acc  duration_months credit_history purpose  \\\n395  A12                 39               A33            A46      \n894  A14                 18               A34            A43      \n750  A11                 6                A32            A42      \n757  A13                 15               A34            A43      \n515  A11                 6                A34            A40      \n\n     credit_amount saving_acc_bonds present_emp_since  installment_rate  \\\n395  11760          A62              A74               2                  \n894  1169           A65              A73               4                  \n750  428            A61              A75               2                  \n757  1271           A65              A73               3                  \n515  609            A61              A74               4                  \n\n    personal_status other_debtors  residing_since property  age_years  \\\n395  A93             A101          3               A124     32          \n894  A93             A101          3               A122     29          \n750  A92             A101          1               A122     49          \n757  A93             A101          4               A124     39          \n515  A92             A101          3               A122     37          \n\n    inst_plans housing  num_existing_credits   job  dependents telephone  \\\n395  A143       A151    1                     A173  1           A192       \n894  A143       A152    2                     A173  1           A192       \n750  A141       A152    1                     A173  1           A192       \n757  A143       A153    2                     A173  1           A192       \n515  A143       A152    2                     A173  1           A191       \n\n    foreign_worker  \n395  A201           \n894  A201           \n750  A201           \n757  A201           \n515  A202           "
          },
          "metadata": {}
        }
      ]
    },
    {
      "metadata": {
        "ExecuteTime": {
          "start_time": "2019-03-22T19:03:10.689862Z",
          "end_time": "2019-03-22T19:03:10.695116Z"
        },
        "trusted": true
      },
      "cell_type": "code",
      "source": "len(y_train)",
      "execution_count": 29,
      "outputs": [
        {
          "output_type": "execute_result",
          "execution_count": 29,
          "data": {
            "text/plain": "700"
          },
          "metadata": {}
        }
      ]
    },
    {
      "metadata": {
        "ExecuteTime": {
          "start_time": "2019-03-22T19:03:11.334797Z",
          "end_time": "2019-03-22T19:03:11.345548Z"
        },
        "trusted": true
      },
      "cell_type": "code",
      "source": "# Explore the metrics that are available for classification\nazureml.train.automl.utilities.get_primary_metrics('classification')",
      "execution_count": 30,
      "outputs": [
        {
          "output_type": "execute_result",
          "execution_count": 30,
          "data": {
            "text/plain": "['precision_score_weighted',\n 'accuracy',\n 'AUC_weighted',\n 'average_precision_score_weighted',\n 'norm_macro_recall']"
          },
          "metadata": {}
        }
      ]
    },
    {
      "metadata": {
        "ExecuteTime": {
          "start_time": "2019-03-22T19:03:11.901527Z",
          "end_time": "2019-03-22T19:03:11.906728Z"
        },
        "trusted": true
      },
      "cell_type": "code",
      "source": "import time\n\nautoml_settings = {\n    \"name\": \"AutoML_Book_CH08_Classification_{0}\".format(time.time()),\n    \"iteration_timeout_minutes\": 10,\n    \"iterations\": 10,\n    \"primary_metric\": 'AUC_weighted',\n    \"preprocess\": True,\n    \"max_concurrent_iterations\": 10,\n    \"verbosity\": logging.INFO\n}\n",
      "execution_count": 31,
      "outputs": []
    },
    {
      "metadata": {
        "ExecuteTime": {
          "start_time": "2019-03-22T19:03:15.311832Z",
          "end_time": "2019-03-22T19:03:15.31779Z"
        },
        "trusted": true
      },
      "cell_type": "code",
      "source": "# ValueError: The training data contains datetime, categorical or text data. Please set preprocess flag as True\n# Set Preprocess= True\nautoml_config = AutoMLConfig(task = 'classification',\n                             debug_log = 'automl_errors.log',                             \n                             X = X_train, \n                             y = y_train,\n                             **automl_settings,\n                            n_cross_validations = 5,\n                             path = project_folder\n                            )",
      "execution_count": 32,
      "outputs": []
    },
    {
      "metadata": {
        "ExecuteTime": {
          "start_time": "2019-03-22T19:03:18.34943Z",
          "end_time": "2019-03-22T19:07:14.648821Z"
        },
        "trusted": true
      },
      "cell_type": "code",
      "source": "local_run = experiment.submit(automl_config, show_output = True)",
      "execution_count": 33,
      "outputs": [
        {
          "output_type": "stream",
          "text": "Running on local machine\nParent Run ID: AutoML_2d9e9ce1-40a5-4c83-bf03-99cd85947451\n********************************************************************************************************************\nITERATION: The iteration being evaluated.\nPIPELINE: A summary description of the pipeline being evaluated.\nSAMPLING %: Percent of the training data to sample.\nDURATION: Time taken for the current iteration.\nMETRIC: The result of computing score on the fitted pipeline.\nBEST: The best observed score thus far.\n********************************************************************************************************************\n\n ITERATION   PIPELINE                                       SAMPLING %  DURATION      METRIC      BEST\n         0   MaxAbsScaler LightGBM                          100.0000    0:00:28       0.7625    0.7625\n         1   MaxAbsScaler LightGBM                          100.0000    0:00:20       0.7604    0.7625\n         2   MaxAbsScaler LightGBM                          100.0000    0:00:19       0.7676    0.7676\n         3   StandardScalerWrapper LightGBM                 100.0000    0:00:19       0.7586    0.7676\n         4   MaxAbsScaler LogisticRegression                100.0000    0:00:18       0.7545    0.7676\n         5   StandardScalerWrapper LightGBM                 100.0000    0:00:19       0.7462    0.7676\n         6   MaxAbsScaler LightGBM                          100.0000    0:00:21       0.7581    0.7676\n         7   MaxAbsScaler LightGBM                          100.0000    0:00:19       0.7665    0.7676\n         8   SparseNormalizer LightGBM                      100.0000    0:00:20       0.7521    0.7676\n         9   Ensemble                                       100.0000    0:00:36       0.7784    0.7784\n",
          "name": "stdout"
        }
      ]
    },
    {
      "metadata": {
        "ExecuteTime": {
          "start_time": "2019-03-22T19:07:14.653213Z",
          "end_time": "2019-03-22T19:07:14.666695Z"
        },
        "trusted": true
      },
      "cell_type": "code",
      "source": "#  ValueError: Invalid primary metric specified for classificatio\n# lease use on of: ['norm_macro_recall', 'precision_score_weighted', 'average_precision_score_weighted', 'accuracy', 'AUC_weighted']\n",
      "execution_count": 34,
      "outputs": []
    },
    {
      "metadata": {
        "ExecuteTime": {
          "start_time": "2019-03-22T19:07:14.670448Z",
          "end_time": "2019-03-22T19:07:15.436649Z"
        },
        "trusted": true
      },
      "cell_type": "code",
      "source": "local_run",
      "execution_count": 35,
      "outputs": [
        {
          "output_type": "execute_result",
          "execution_count": 35,
          "data": {
            "text/html": "<table style=\"width:100%\"><tr><th>Experiment</th><th>Id</th><th>Type</th><th>Status</th><th>Details Page</th><th>Docs Page</th></tr><tr><td>automl-classification</td><td>AutoML_2d9e9ce1-40a5-4c83-bf03-99cd85947451</td><td>automl</td><td>Completed</td><td><a href=\"https://mlworkspace.azure.ai/portal/subscriptions/e3d07b3a-cea4-4d68-8d23-4a65d4811f30/resourceGroups/oreillybook/providers/Microsoft.MachineLearningServices/workspaces/automl-tutorials/experiments/automl-classification/runs/AutoML_2d9e9ce1-40a5-4c83-bf03-99cd85947451\" target=\"_blank\" rel=\"noopener\">Link to Azure Portal</a></td><td><a href=\"https://docs.microsoft.com/en-us/python/api/overview/azure/ml/intro?view=azure-ml-py\" target=\"_blank\" rel=\"noopener\">Link to Documentation</a></td></tr></table>",
            "text/plain": "Run(Experiment: automl-classification,\nId: AutoML_2d9e9ce1-40a5-4c83-bf03-99cd85947451,\nType: automl,\nStatus: Completed)"
          },
          "metadata": {}
        }
      ]
    },
    {
      "metadata": {},
      "cell_type": "markdown",
      "source": "## Understanding the results of the AutoML Run"
    },
    {
      "metadata": {
        "ExecuteTime": {
          "start_time": "2019-03-22T19:07:15.439984Z",
          "end_time": "2019-03-22T19:07:20.818388Z"
        },
        "trusted": true
      },
      "cell_type": "code",
      "source": "!pip install azureml-widgets",
      "execution_count": null,
      "outputs": []
    },
    {
      "metadata": {
        "ExecuteTime": {
          "start_time": "2019-03-22T19:15:02.51073Z",
          "end_time": "2019-03-22T19:15:02.521779Z"
        },
        "trusted": true
      },
      "cell_type": "code",
      "source": "import azureml.widgets",
      "execution_count": 37,
      "outputs": []
    },
    {
      "metadata": {
        "ExecuteTime": {
          "start_time": "2019-03-22T19:15:03.558663Z",
          "end_time": "2019-03-22T19:15:03.594887Z"
        },
        "trusted": true
      },
      "cell_type": "code",
      "source": "from azureml.widgets import RunDetails\nRunDetails(local_run).show() ",
      "execution_count": 38,
      "outputs": [
        {
          "output_type": "display_data",
          "data": {
            "application/vnd.jupyter.widget-view+json": {
              "model_id": "3cb9859c7f0b4642a016176a9a054483",
              "version_minor": 0,
              "version_major": 2
            },
            "text/plain": "_AutoMLWidget(widget_settings={'childWidgetDisplay': 'popup', 'send_telemetry': False, 'log_level': 'INFO', 's…"
          },
          "metadata": {}
        }
      ]
    },
    {
      "metadata": {
        "ExecuteTime": {
          "start_time": "2019-03-22T19:15:06.831986Z",
          "end_time": "2019-03-22T19:15:13.20772Z"
        },
        "trusted": true
      },
      "cell_type": "code",
      "source": "# Get all child runs\nchildren = list(local_run.get_children())\nmetricslist = {}\nfor run in children:\n    properties = run.get_properties()\n    metrics = {k: v for k, v in run.get_metrics().items() if isinstance(v, float)}\n    metricslist[int(properties['iteration'])] = metrics\n\nrundata = pd.DataFrame(metricslist).sort_index(1)\nrundata",
      "execution_count": 39,
      "outputs": [
        {
          "output_type": "execute_result",
          "execution_count": 39,
          "data": {
            "text/html": "<div>\n<style scoped>\n    .dataframe tbody tr th:only-of-type {\n        vertical-align: middle;\n    }\n\n    .dataframe tbody tr th {\n        vertical-align: top;\n    }\n\n    .dataframe thead th {\n        text-align: right;\n    }\n</style>\n<table border=\"1\" class=\"dataframe\">\n  <thead>\n    <tr style=\"text-align: right;\">\n      <th></th>\n      <th>0</th>\n      <th>1</th>\n      <th>2</th>\n      <th>3</th>\n      <th>4</th>\n      <th>5</th>\n      <th>6</th>\n      <th>7</th>\n      <th>8</th>\n      <th>9</th>\n    </tr>\n  </thead>\n  <tbody>\n    <tr>\n      <th>AUC_macro</th>\n      <td>0.76</td>\n      <td>0.76</td>\n      <td>0.77</td>\n      <td>0.76</td>\n      <td>0.75</td>\n      <td>0.75</td>\n      <td>0.76</td>\n      <td>0.77</td>\n      <td>0.75</td>\n      <td>0.78</td>\n    </tr>\n    <tr>\n      <th>AUC_micro</th>\n      <td>0.76</td>\n      <td>0.76</td>\n      <td>0.77</td>\n      <td>0.76</td>\n      <td>0.75</td>\n      <td>0.75</td>\n      <td>0.76</td>\n      <td>0.77</td>\n      <td>0.75</td>\n      <td>0.78</td>\n    </tr>\n    <tr>\n      <th>AUC_weighted</th>\n      <td>0.76</td>\n      <td>0.76</td>\n      <td>0.77</td>\n      <td>0.76</td>\n      <td>0.75</td>\n      <td>0.75</td>\n      <td>0.76</td>\n      <td>0.77</td>\n      <td>0.75</td>\n      <td>0.78</td>\n    </tr>\n    <tr>\n      <th>accuracy</th>\n      <td>0.74</td>\n      <td>0.73</td>\n      <td>0.74</td>\n      <td>0.74</td>\n      <td>0.71</td>\n      <td>0.72</td>\n      <td>0.73</td>\n      <td>0.76</td>\n      <td>0.73</td>\n      <td>0.74</td>\n    </tr>\n    <tr>\n      <th>average_precision_score_macro</th>\n      <td>0.59</td>\n      <td>0.59</td>\n      <td>0.60</td>\n      <td>0.60</td>\n      <td>0.60</td>\n      <td>0.56</td>\n      <td>0.60</td>\n      <td>0.61</td>\n      <td>0.58</td>\n      <td>0.63</td>\n    </tr>\n    <tr>\n      <th>average_precision_score_micro</th>\n      <td>0.59</td>\n      <td>0.59</td>\n      <td>0.60</td>\n      <td>0.60</td>\n      <td>0.60</td>\n      <td>0.56</td>\n      <td>0.60</td>\n      <td>0.61</td>\n      <td>0.58</td>\n      <td>0.63</td>\n    </tr>\n    <tr>\n      <th>average_precision_score_weighted</th>\n      <td>0.59</td>\n      <td>0.59</td>\n      <td>0.60</td>\n      <td>0.60</td>\n      <td>0.60</td>\n      <td>0.56</td>\n      <td>0.60</td>\n      <td>0.61</td>\n      <td>0.58</td>\n      <td>0.63</td>\n    </tr>\n    <tr>\n      <th>balanced_accuracy</th>\n      <td>0.63</td>\n      <td>0.59</td>\n      <td>0.65</td>\n      <td>0.64</td>\n      <td>0.70</td>\n      <td>0.60</td>\n      <td>0.63</td>\n      <td>0.67</td>\n      <td>0.59</td>\n      <td>0.63</td>\n    </tr>\n    <tr>\n      <th>f1_score_macro</th>\n      <td>0.63</td>\n      <td>0.58</td>\n      <td>0.66</td>\n      <td>0.65</td>\n      <td>0.68</td>\n      <td>0.60</td>\n      <td>0.63</td>\n      <td>0.68</td>\n      <td>0.59</td>\n      <td>0.63</td>\n    </tr>\n    <tr>\n      <th>f1_score_micro</th>\n      <td>0.74</td>\n      <td>0.73</td>\n      <td>0.74</td>\n      <td>0.74</td>\n      <td>0.71</td>\n      <td>0.72</td>\n      <td>0.73</td>\n      <td>0.76</td>\n      <td>0.73</td>\n      <td>0.74</td>\n    </tr>\n    <tr>\n      <th>f1_score_weighted</th>\n      <td>0.71</td>\n      <td>0.68</td>\n      <td>0.73</td>\n      <td>0.72</td>\n      <td>0.71</td>\n      <td>0.69</td>\n      <td>0.71</td>\n      <td>0.74</td>\n      <td>0.68</td>\n      <td>0.71</td>\n    </tr>\n    <tr>\n      <th>log_loss</th>\n      <td>0.52</td>\n      <td>0.53</td>\n      <td>0.52</td>\n      <td>0.52</td>\n      <td>0.58</td>\n      <td>0.54</td>\n      <td>0.53</td>\n      <td>0.52</td>\n      <td>0.54</td>\n      <td>0.52</td>\n    </tr>\n    <tr>\n      <th>norm_macro_recall</th>\n      <td>0.25</td>\n      <td>0.18</td>\n      <td>0.31</td>\n      <td>0.29</td>\n      <td>0.40</td>\n      <td>0.20</td>\n      <td>0.25</td>\n      <td>0.34</td>\n      <td>0.19</td>\n      <td>0.25</td>\n    </tr>\n    <tr>\n      <th>precision_score_macro</th>\n      <td>0.71</td>\n      <td>0.72</td>\n      <td>0.71</td>\n      <td>0.69</td>\n      <td>0.67</td>\n      <td>0.68</td>\n      <td>0.69</td>\n      <td>0.74</td>\n      <td>0.70</td>\n      <td>0.72</td>\n    </tr>\n    <tr>\n      <th>precision_score_micro</th>\n      <td>0.74</td>\n      <td>0.73</td>\n      <td>0.74</td>\n      <td>0.74</td>\n      <td>0.71</td>\n      <td>0.72</td>\n      <td>0.73</td>\n      <td>0.76</td>\n      <td>0.73</td>\n      <td>0.74</td>\n    </tr>\n    <tr>\n      <th>precision_score_weighted</th>\n      <td>0.73</td>\n      <td>0.73</td>\n      <td>0.73</td>\n      <td>0.73</td>\n      <td>0.74</td>\n      <td>0.71</td>\n      <td>0.72</td>\n      <td>0.76</td>\n      <td>0.72</td>\n      <td>0.74</td>\n    </tr>\n    <tr>\n      <th>recall_score_macro</th>\n      <td>0.63</td>\n      <td>0.59</td>\n      <td>0.65</td>\n      <td>0.64</td>\n      <td>0.70</td>\n      <td>0.60</td>\n      <td>0.63</td>\n      <td>0.67</td>\n      <td>0.59</td>\n      <td>0.63</td>\n    </tr>\n    <tr>\n      <th>recall_score_micro</th>\n      <td>0.74</td>\n      <td>0.73</td>\n      <td>0.74</td>\n      <td>0.74</td>\n      <td>0.71</td>\n      <td>0.72</td>\n      <td>0.73</td>\n      <td>0.76</td>\n      <td>0.73</td>\n      <td>0.74</td>\n    </tr>\n    <tr>\n      <th>recall_score_weighted</th>\n      <td>0.74</td>\n      <td>0.73</td>\n      <td>0.74</td>\n      <td>0.74</td>\n      <td>0.71</td>\n      <td>0.72</td>\n      <td>0.73</td>\n      <td>0.76</td>\n      <td>0.73</td>\n      <td>0.74</td>\n    </tr>\n    <tr>\n      <th>weighted_accuracy</th>\n      <td>0.82</td>\n      <td>0.83</td>\n      <td>0.81</td>\n      <td>0.80</td>\n      <td>0.71</td>\n      <td>0.82</td>\n      <td>0.81</td>\n      <td>0.83</td>\n      <td>0.83</td>\n      <td>0.83</td>\n    </tr>\n  </tbody>\n</table>\n</div>",
            "text/plain": "                                    0    1    2    3    4    5    6    7    8  \\\nAUC_macro                        0.76 0.76 0.77 0.76 0.75 0.75 0.76 0.77 0.75   \nAUC_micro                        0.76 0.76 0.77 0.76 0.75 0.75 0.76 0.77 0.75   \nAUC_weighted                     0.76 0.76 0.77 0.76 0.75 0.75 0.76 0.77 0.75   \naccuracy                         0.74 0.73 0.74 0.74 0.71 0.72 0.73 0.76 0.73   \naverage_precision_score_macro    0.59 0.59 0.60 0.60 0.60 0.56 0.60 0.61 0.58   \naverage_precision_score_micro    0.59 0.59 0.60 0.60 0.60 0.56 0.60 0.61 0.58   \naverage_precision_score_weighted 0.59 0.59 0.60 0.60 0.60 0.56 0.60 0.61 0.58   \nbalanced_accuracy                0.63 0.59 0.65 0.64 0.70 0.60 0.63 0.67 0.59   \nf1_score_macro                   0.63 0.58 0.66 0.65 0.68 0.60 0.63 0.68 0.59   \nf1_score_micro                   0.74 0.73 0.74 0.74 0.71 0.72 0.73 0.76 0.73   \nf1_score_weighted                0.71 0.68 0.73 0.72 0.71 0.69 0.71 0.74 0.68   \nlog_loss                         0.52 0.53 0.52 0.52 0.58 0.54 0.53 0.52 0.54   \nnorm_macro_recall                0.25 0.18 0.31 0.29 0.40 0.20 0.25 0.34 0.19   \nprecision_score_macro            0.71 0.72 0.71 0.69 0.67 0.68 0.69 0.74 0.70   \nprecision_score_micro            0.74 0.73 0.74 0.74 0.71 0.72 0.73 0.76 0.73   \nprecision_score_weighted         0.73 0.73 0.73 0.73 0.74 0.71 0.72 0.76 0.72   \nrecall_score_macro               0.63 0.59 0.65 0.64 0.70 0.60 0.63 0.67 0.59   \nrecall_score_micro               0.74 0.73 0.74 0.74 0.71 0.72 0.73 0.76 0.73   \nrecall_score_weighted            0.74 0.73 0.74 0.74 0.71 0.72 0.73 0.76 0.73   \nweighted_accuracy                0.82 0.83 0.81 0.80 0.71 0.82 0.81 0.83 0.83   \n\n                                    9  \nAUC_macro                        0.78  \nAUC_micro                        0.78  \nAUC_weighted                     0.78  \naccuracy                         0.74  \naverage_precision_score_macro    0.63  \naverage_precision_score_micro    0.63  \naverage_precision_score_weighted 0.63  \nbalanced_accuracy                0.63  \nf1_score_macro                   0.63  \nf1_score_micro                   0.74  \nf1_score_weighted                0.71  \nlog_loss                         0.52  \nnorm_macro_recall                0.25  \nprecision_score_macro            0.72  \nprecision_score_micro            0.74  \nprecision_score_weighted         0.74  \nrecall_score_macro               0.63  \nrecall_score_micro               0.74  \nrecall_score_weighted            0.74  \nweighted_accuracy                0.83  "
          },
          "metadata": {}
        }
      ]
    },
    {
      "metadata": {
        "ExecuteTime": {
          "start_time": "2019-03-09T01:30:15.428748Z",
          "end_time": "2019-03-09T01:30:15.431676Z"
        }
      },
      "cell_type": "markdown",
      "source": "## Let's get the best model sofar\n"
    },
    {
      "metadata": {
        "ExecuteTime": {
          "start_time": "2019-03-22T19:15:13.211179Z",
          "end_time": "2019-03-22T19:15:13.758239Z"
        },
        "trusted": true
      },
      "cell_type": "code",
      "source": "local_run",
      "execution_count": 40,
      "outputs": [
        {
          "output_type": "execute_result",
          "execution_count": 40,
          "data": {
            "text/html": "<table style=\"width:100%\"><tr><th>Experiment</th><th>Id</th><th>Type</th><th>Status</th><th>Details Page</th><th>Docs Page</th></tr><tr><td>automl-classification</td><td>AutoML_2d9e9ce1-40a5-4c83-bf03-99cd85947451</td><td>automl</td><td>Completed</td><td><a href=\"https://mlworkspace.azure.ai/portal/subscriptions/e3d07b3a-cea4-4d68-8d23-4a65d4811f30/resourceGroups/oreillybook/providers/Microsoft.MachineLearningServices/workspaces/automl-tutorials/experiments/automl-classification/runs/AutoML_2d9e9ce1-40a5-4c83-bf03-99cd85947451\" target=\"_blank\" rel=\"noopener\">Link to Azure Portal</a></td><td><a href=\"https://docs.microsoft.com/en-us/python/api/overview/azure/ml/intro?view=azure-ml-py\" target=\"_blank\" rel=\"noopener\">Link to Documentation</a></td></tr></table>",
            "text/plain": "Run(Experiment: automl-classification,\nId: AutoML_2d9e9ce1-40a5-4c83-bf03-99cd85947451,\nType: automl,\nStatus: Completed)"
          },
          "metadata": {}
        }
      ]
    },
    {
      "metadata": {
        "ExecuteTime": {
          "start_time": "2019-03-22T19:15:13.761877Z",
          "end_time": "2019-03-22T19:15:19.312313Z"
        },
        "trusted": true
      },
      "cell_type": "code",
      "source": "best_run, fitted_model = local_run.get_output(metric = \"AUC_weighted\")\nprint(best_run)\nprint(fitted_model)",
      "execution_count": 41,
      "outputs": [
        {
          "output_type": "stream",
          "text": "Run(Experiment: automl-classification,\nId: AutoML_2d9e9ce1-40a5-4c83-bf03-99cd85947451_9,\nType: None,\nStatus: Completed)\nPipeline(memory=None,\n     steps=[('datatransformer', DataTransformer(logger=None, task=None)), ('prefittedsoftvotingclassifier', PreFittedSoftVotingClassifier(classification_labels=None,\n               estimators=[('LightGBM', Pipeline(memory=None,\n     steps=[('sparsenormalizer', <automl.client.core.common.model_wrappers.Sp...               flatten_transform=None,\n               weights=[0.1, 0.1, 0.1, 0.1, 0.1, 0.1, 0.4]))])\n",
          "name": "stdout"
        }
      ]
    },
    {
      "metadata": {},
      "cell_type": "markdown",
      "source": "## Testing the model"
    },
    {
      "metadata": {
        "ExecuteTime": {
          "start_time": "2019-03-22T19:15:19.320468Z",
          "end_time": "2019-03-22T19:15:19.324206Z"
        },
        "trusted": true
      },
      "cell_type": "code",
      "source": "from sklearn.metrics import classification_report\nfrom sklearn.metrics import roc_auc_score",
      "execution_count": 42,
      "outputs": []
    },
    {
      "metadata": {
        "ExecuteTime": {
          "start_time": "2019-03-22T19:15:20.437207Z",
          "end_time": "2019-03-22T19:15:20.510332Z"
        },
        "trusted": true
      },
      "cell_type": "code",
      "source": "y_pred = fitted_model.predict(X_test)",
      "execution_count": 43,
      "outputs": []
    },
    {
      "metadata": {
        "ExecuteTime": {
          "start_time": "2019-03-22T19:15:21.137173Z",
          "end_time": "2019-03-22T19:15:21.145289Z"
        },
        "trusted": true
      },
      "cell_type": "code",
      "source": "len(y_pred)",
      "execution_count": 44,
      "outputs": [
        {
          "output_type": "execute_result",
          "execution_count": 44,
          "data": {
            "text/plain": "300"
          },
          "metadata": {}
        }
      ]
    },
    {
      "metadata": {
        "ExecuteTime": {
          "start_time": "2019-03-22T19:15:21.69622Z",
          "end_time": "2019-03-22T19:15:21.705897Z"
        },
        "trusted": true
      },
      "cell_type": "code",
      "source": "len(y_test)",
      "execution_count": 45,
      "outputs": [
        {
          "output_type": "execute_result",
          "execution_count": 45,
          "data": {
            "text/plain": "300"
          },
          "metadata": {}
        }
      ]
    },
    {
      "metadata": {
        "ExecuteTime": {
          "start_time": "2019-03-22T19:15:22.312039Z",
          "end_time": "2019-03-22T19:15:22.323219Z"
        },
        "trusted": true
      },
      "cell_type": "code",
      "source": "target_names = ['0','1']\nprint (classification_report(y_test,y_pred, target_names=target_names))",
      "execution_count": 46,
      "outputs": [
        {
          "output_type": "stream",
          "text": "             precision    recall  f1-score   support\n\n          0       0.77      0.91      0.84       214\n          1       0.60      0.34      0.43        86\n\navg / total       0.73      0.75      0.72       300\n\n",
          "name": "stdout"
        }
      ]
    },
    {
      "metadata": {
        "trusted": true,
        "ExecuteTime": {
          "start_time": "2019-03-22T19:15:24.87791Z",
          "end_time": "2019-03-22T19:15:24.883746Z"
        }
      },
      "cell_type": "code",
      "source": "print(roc_auc_score(y_test,y_pred))",
      "execution_count": 47,
      "outputs": [
        {
          "output_type": "stream",
          "text": "0.6242121277983047\n",
          "name": "stdout"
        }
      ]
    },
    {
      "metadata": {
        "trusted": true
      },
      "cell_type": "code",
      "source": "",
      "execution_count": null,
      "outputs": []
    },
    {
      "metadata": {
        "trusted": true
      },
      "cell_type": "markdown",
      "source": "## Explainability of Models"
    },
    {
      "metadata": {
        "ExecuteTime": {
          "start_time": "2019-03-10T05:07:29.66722Z",
          "end_time": "2019-03-10T05:07:29.670885Z"
        },
        "trusted": true
      },
      "cell_type": "code",
      "source": "project_folder = './book/automl-classification-explain'",
      "execution_count": 19,
      "outputs": []
    },
    {
      "metadata": {
        "ExecuteTime": {
          "start_time": "2019-03-10T05:07:32.97333Z",
          "end_time": "2019-03-10T05:07:32.978032Z"
        },
        "trusted": true
      },
      "cell_type": "code",
      "source": "automl_explain_config = AutoMLConfig(task = 'classification',\n                            model_explainability=True,\n                            debug_log = 'automl_errors.log',                             \n                             X = X_train, \n                             y = y_train,\n                             X_valid = X_test,\n                             y_valid = y_test,\n                             **automl_settings,\n                             path = project_folder\n                            )",
      "execution_count": 20,
      "outputs": []
    },
    {
      "metadata": {
        "ExecuteTime": {
          "start_time": "2019-03-10T05:14:09.489249Z",
          "end_time": "2019-03-10T06:07:22.032862Z"
        },
        "trusted": true
      },
      "cell_type": "code",
      "source": "from azureml.core.experiment import Experiment\nexperiment_e=Experiment(ws, 'automl_explain')\n\nlocal_explain_run = experiment_e.submit(automl_explain_config, show_output = True)",
      "execution_count": 24,
      "outputs": [
        {
          "output_type": "stream",
          "text": "Running on local machine\nParent Run ID: AutoML_edc85e4e-cc87-47eb-bfea-85397cd82e3d\n*******************************************************************************************************************\nITERATION: The iteration being evaluated.\nPIPELINE: A summary description of the pipeline being evaluated.\nTRAINFRAC: Fraction of the training data to train on.\nDURATION: Time taken for the current iteration.\nMETRIC: The result of computing score on the fitted pipeline.\nBEST: The best observed score thus far.\n*******************************************************************************************************************\n\n ITERATION   PIPELINE                                       TRAINFRAC  DURATION      METRIC      BEST\n         0   SparseNormalizer LightGBM                      1.0000     0:05:07       0.7644    0.7644\n         1   SparseNormalizer LightGBM                      1.0000     0:05:08       0.7885    0.7885\n         2   StandardScalerWrapper LightGBM                 1.0000     0:05:02       0.8032    0.8032\n         3   StandardScalerWrapper LightGBM                 1.0000     0:05:09       0.7696    0.8032\n         4   StandardScalerWrapper LightGBM                 1.0000     0:05:06       0.7652    0.8032\n         5   SparseNormalizer LightGBM                      1.0000     0:05:15       0.7627    0.8032\n         6   MaxAbsScaler LightGBM                          1.0000     0:05:17       0.7965    0.8032\n         7   StandardScalerWrapper LightGBM                 1.0000     0:05:10       0.7479    0.8032\n         8   MaxAbsScaler LightGBM                          1.0000     0:05:14       0.7983    0.8032\n         9   Ensemble                                       1.0000     0:06:08       0.8019    0.8032\n",
          "name": "stdout"
        }
      ]
    },
    {
      "metadata": {
        "trusted": true,
        "ExecuteTime": {
          "start_time": "2019-03-10T06:32:04.734523Z",
          "end_time": "2019-03-10T06:32:10.573201Z"
        }
      },
      "cell_type": "code",
      "source": "best_run, fitted_model = local_explain_run.get_output()",
      "execution_count": 25,
      "outputs": []
    },
    {
      "metadata": {
        "ExecuteTime": {
          "start_time": "2019-03-10T06:32:19.887309Z",
          "end_time": "2019-03-10T06:32:19.948737Z"
        },
        "trusted": true
      },
      "cell_type": "code",
      "source": "from azureml.widgets import RunDetails\n\nRunDetails(local_explain_run).show()",
      "execution_count": null,
      "outputs": []
    },
    {
      "metadata": {
        "ExecuteTime": {
          "start_time": "2019-03-10T06:33:43.255092Z",
          "end_time": "2019-03-10T06:33:52.891478Z"
        },
        "trusted": true
      },
      "cell_type": "code",
      "source": "from azureml.train.automl.automlexplainer import retrieve_model_explanation\n\nshap_values, expected_values, overall_summary, overall_imp, per_class_summary, per_class_imp = \\\n    retrieve_model_explanation(best_run)",
      "execution_count": 28,
      "outputs": []
    },
    {
      "metadata": {
        "trusted": true,
        "ExecuteTime": {
          "start_time": "2019-03-10T06:34:19.125423Z",
          "end_time": "2019-03-10T06:34:19.131663Z"
        }
      },
      "cell_type": "code",
      "source": "print(overall_summary)\nprint(overall_imp)\n\n",
      "execution_count": null,
      "outputs": []
    },
    {
      "metadata": {
        "trusted": true
      },
      "cell_type": "code",
      "source": "",
      "execution_count": null,
      "outputs": []
    }
  ],
  "metadata": {
    "kernelspec": {
      "name": "python36",
      "display_name": "Python 3.6",
      "language": "python"
    },
    "language_info": {
      "mimetype": "text/x-python",
      "nbconvert_exporter": "python",
      "name": "python",
      "pygments_lexer": "ipython3",
      "version": "3.6.6",
      "file_extension": ".py",
      "codemirror_mode": {
        "version": 3,
        "name": "ipython"
      }
    }
  },
  "nbformat": 4,
  "nbformat_minor": 2
}
