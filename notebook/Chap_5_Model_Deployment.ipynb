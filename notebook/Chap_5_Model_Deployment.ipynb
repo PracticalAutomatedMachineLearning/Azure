{
  "cells": [
    {
      "metadata": {},
      "cell_type": "markdown",
      "source": "# Chapter 05 - Model Deployment"
    },
    {
      "metadata": {},
      "cell_type": "markdown",
      "source": "## Overview"
    },
    {
      "metadata": {},
      "cell_type": "markdown",
      "source": "The goal of this notebook is to show how you can use Azure Machine Learning service to deploy the machine learning models that have been trained using Automated Machine Learning (AutoML).\nIf you have already trained the model, you can skip earlier steps, and focus on Step 3. Step 3 shows how you can deploy the model using Azure Container Instances (ACI), and then use the deployed endpoint for prediction.\n\nThe notebook is organized as follows:\n\n1. Acquire and Prepare Data\n2. Automated ML\n3. Deploy Model\n\n"
    },
    {
      "metadata": {},
      "cell_type": "markdown",
      "source": "## 1. Acquire and Prepare Data\nFor this notebook, we will use the NASA Prognostics Center's Turbo-Fan Failure dataset.  It is located here: https://ti.arc.nasa.gov/tech/dash/groups/pcoe/prognostic-data-repository/#turbofan"
    },
    {
      "metadata": {},
      "cell_type": "markdown",
      "source": "We have it as .txt file in the same folder. We read it into a Pandas DataFrame.\nNote the headers were not in the space seperated txt file, so we assign them from the ReadMe in the zip file. In pandas we use read_csv with the delimiter option, even with a space delimited file."
    },
    {
      "metadata": {
        "ExecuteTime": {
          "start_time": "2019-05-07T22:45:55.024489Z",
          "end_time": "2019-05-07T22:45:56.220665Z"
        },
        "trusted": true
      },
      "cell_type": "code",
      "source": "import pandas as pd\ntrain = pd.read_csv(\"train_FD001.txt\", delimiter=\"\\s|\\s\\s\", index_col=False, engine='python', names=['unit','cycle','os1','os2','os3','sm1','sm2','sm3','sm4','sm5','sm6','sm7','sm8','sm9','sm10','sm11','sm12','sm13','sm14','sm15','sm16','sm17','sm18','sm19','sm20','sm21'])",
      "execution_count": 20,
      "outputs": []
    },
    {
      "metadata": {},
      "cell_type": "markdown",
      "source": "Take a quick look at the data"
    },
    {
      "metadata": {
        "ExecuteTime": {
          "start_time": "2019-05-07T22:45:57.45715Z",
          "end_time": "2019-05-07T22:45:57.507647Z"
        },
        "trusted": true
      },
      "cell_type": "code",
      "source": "train.head(5)",
      "execution_count": 21,
      "outputs": [
        {
          "output_type": "execute_result",
          "execution_count": 21,
          "data": {
            "text/html": "<div>\n<style scoped>\n    .dataframe tbody tr th:only-of-type {\n        vertical-align: middle;\n    }\n\n    .dataframe tbody tr th {\n        vertical-align: top;\n    }\n\n    .dataframe thead th {\n        text-align: right;\n    }\n</style>\n<table border=\"1\" class=\"dataframe\">\n  <thead>\n    <tr style=\"text-align: right;\">\n      <th></th>\n      <th>unit</th>\n      <th>cycle</th>\n      <th>os1</th>\n      <th>os2</th>\n      <th>os3</th>\n      <th>sm1</th>\n      <th>sm2</th>\n      <th>sm3</th>\n      <th>sm4</th>\n      <th>sm5</th>\n      <th>...</th>\n      <th>sm12</th>\n      <th>sm13</th>\n      <th>sm14</th>\n      <th>sm15</th>\n      <th>sm16</th>\n      <th>sm17</th>\n      <th>sm18</th>\n      <th>sm19</th>\n      <th>sm20</th>\n      <th>sm21</th>\n    </tr>\n  </thead>\n  <tbody>\n    <tr>\n      <th>0</th>\n      <td>1</td>\n      <td>1</td>\n      <td>-0.00</td>\n      <td>-0.00</td>\n      <td>100.00</td>\n      <td>518.67</td>\n      <td>641.82</td>\n      <td>1589.70</td>\n      <td>1400.60</td>\n      <td>14.62</td>\n      <td>...</td>\n      <td>521.66</td>\n      <td>2388.02</td>\n      <td>8138.62</td>\n      <td>8.42</td>\n      <td>0.03</td>\n      <td>392</td>\n      <td>2388</td>\n      <td>100.00</td>\n      <td>39.06</td>\n      <td>23.42</td>\n    </tr>\n    <tr>\n      <th>1</th>\n      <td>1</td>\n      <td>2</td>\n      <td>0.00</td>\n      <td>-0.00</td>\n      <td>100.00</td>\n      <td>518.67</td>\n      <td>642.15</td>\n      <td>1591.82</td>\n      <td>1403.14</td>\n      <td>14.62</td>\n      <td>...</td>\n      <td>522.28</td>\n      <td>2388.07</td>\n      <td>8131.49</td>\n      <td>8.43</td>\n      <td>0.03</td>\n      <td>392</td>\n      <td>2388</td>\n      <td>100.00</td>\n      <td>39.00</td>\n      <td>23.42</td>\n    </tr>\n    <tr>\n      <th>2</th>\n      <td>1</td>\n      <td>3</td>\n      <td>-0.00</td>\n      <td>0.00</td>\n      <td>100.00</td>\n      <td>518.67</td>\n      <td>642.35</td>\n      <td>1587.99</td>\n      <td>1404.20</td>\n      <td>14.62</td>\n      <td>...</td>\n      <td>522.42</td>\n      <td>2388.03</td>\n      <td>8133.23</td>\n      <td>8.42</td>\n      <td>0.03</td>\n      <td>390</td>\n      <td>2388</td>\n      <td>100.00</td>\n      <td>38.95</td>\n      <td>23.34</td>\n    </tr>\n    <tr>\n      <th>3</th>\n      <td>1</td>\n      <td>4</td>\n      <td>0.00</td>\n      <td>0.00</td>\n      <td>100.00</td>\n      <td>518.67</td>\n      <td>642.35</td>\n      <td>1582.79</td>\n      <td>1401.87</td>\n      <td>14.62</td>\n      <td>...</td>\n      <td>522.86</td>\n      <td>2388.08</td>\n      <td>8133.83</td>\n      <td>8.37</td>\n      <td>0.03</td>\n      <td>392</td>\n      <td>2388</td>\n      <td>100.00</td>\n      <td>38.88</td>\n      <td>23.37</td>\n    </tr>\n    <tr>\n      <th>4</th>\n      <td>1</td>\n      <td>5</td>\n      <td>-0.00</td>\n      <td>-0.00</td>\n      <td>100.00</td>\n      <td>518.67</td>\n      <td>642.37</td>\n      <td>1582.85</td>\n      <td>1406.22</td>\n      <td>14.62</td>\n      <td>...</td>\n      <td>522.19</td>\n      <td>2388.04</td>\n      <td>8133.80</td>\n      <td>8.43</td>\n      <td>0.03</td>\n      <td>393</td>\n      <td>2388</td>\n      <td>100.00</td>\n      <td>38.90</td>\n      <td>23.40</td>\n    </tr>\n  </tbody>\n</table>\n<p>5 rows × 26 columns</p>\n</div>",
            "text/plain": "   unit  cycle   os1   os2    os3    sm1    sm2     sm3     sm4   sm5  ...   \\\n0  1     1     -0.00 -0.00 100.00 518.67 641.82 1589.70 1400.60 14.62  ...    \n1  1     2     0.00  -0.00 100.00 518.67 642.15 1591.82 1403.14 14.62  ...    \n2  1     3     -0.00 0.00  100.00 518.67 642.35 1587.99 1404.20 14.62  ...    \n3  1     4     0.00  0.00  100.00 518.67 642.35 1582.79 1401.87 14.62  ...    \n4  1     5     -0.00 -0.00 100.00 518.67 642.37 1582.85 1406.22 14.62  ...    \n\n    sm12    sm13    sm14  sm15  sm16  sm17  sm18   sm19  sm20  sm21  \n0 521.66 2388.02 8138.62 8.42  0.03   392   2388 100.00 39.06 23.42  \n1 522.28 2388.07 8131.49 8.43  0.03   392   2388 100.00 39.00 23.42  \n2 522.42 2388.03 8133.23 8.42  0.03   390   2388 100.00 38.95 23.34  \n3 522.86 2388.08 8133.83 8.37  0.03   392   2388 100.00 38.88 23.37  \n4 522.19 2388.04 8133.80 8.43  0.03   393   2388 100.00 38.90 23.40  \n\n[5 rows x 26 columns]"
          },
          "metadata": {}
        }
      ]
    },
    {
      "metadata": {},
      "cell_type": "markdown",
      "source": "Our dataset has a number of units in it, with each engine flight listed as a cycle. The cycles count up until the engine fails. What we would like to predict is the no. of cycles until failure. \nSo we need to calculate a new column called RUL, or Remaining Useful Life.  It will be the last cycle value minus each cycle value per unit."
    },
    {
      "metadata": {
        "ExecuteTime": {
          "start_time": "2019-05-07T22:45:59.067576Z",
          "end_time": "2019-05-07T22:45:59.46327Z"
        },
        "trusted": true
      },
      "cell_type": "code",
      "source": "# Assign ground truth\ndef assignrul(df):\n    maxi = df['cycle'].max()\n    df['rul'] = maxi - df['cycle']\n    return df\n    \n\ntrain_new = train.groupby('unit').apply(assignrul)\n\ntrain_new.columns",
      "execution_count": 22,
      "outputs": [
        {
          "output_type": "execute_result",
          "execution_count": 22,
          "data": {
            "text/plain": "Index(['unit', 'cycle', 'os1', 'os2', 'os3', 'sm1', 'sm2', 'sm3', 'sm4', 'sm5',\n       'sm6', 'sm7', 'sm8', 'sm9', 'sm10', 'sm11', 'sm12', 'sm13', 'sm14',\n       'sm15', 'sm16', 'sm17', 'sm18', 'sm19', 'sm20', 'sm21', 'rul'],\n      dtype='object')"
          },
          "metadata": {}
        }
      ]
    },
    {
      "metadata": {},
      "cell_type": "markdown",
      "source": "Now our dataframe has the 'RUL' column.  Predicting this value will be the objective of this exercise."
    },
    {
      "metadata": {
        "ExecuteTime": {
          "start_time": "2019-05-07T22:46:07.432218Z",
          "end_time": "2019-05-07T22:46:07.479447Z"
        },
        "trusted": true
      },
      "cell_type": "code",
      "source": "train_new.head(5)",
      "execution_count": 23,
      "outputs": [
        {
          "output_type": "execute_result",
          "execution_count": 23,
          "data": {
            "text/html": "<div>\n<style scoped>\n    .dataframe tbody tr th:only-of-type {\n        vertical-align: middle;\n    }\n\n    .dataframe tbody tr th {\n        vertical-align: top;\n    }\n\n    .dataframe thead th {\n        text-align: right;\n    }\n</style>\n<table border=\"1\" class=\"dataframe\">\n  <thead>\n    <tr style=\"text-align: right;\">\n      <th></th>\n      <th>unit</th>\n      <th>cycle</th>\n      <th>os1</th>\n      <th>os2</th>\n      <th>os3</th>\n      <th>sm1</th>\n      <th>sm2</th>\n      <th>sm3</th>\n      <th>sm4</th>\n      <th>sm5</th>\n      <th>...</th>\n      <th>sm13</th>\n      <th>sm14</th>\n      <th>sm15</th>\n      <th>sm16</th>\n      <th>sm17</th>\n      <th>sm18</th>\n      <th>sm19</th>\n      <th>sm20</th>\n      <th>sm21</th>\n      <th>rul</th>\n    </tr>\n  </thead>\n  <tbody>\n    <tr>\n      <th>0</th>\n      <td>1</td>\n      <td>1</td>\n      <td>-0.00</td>\n      <td>-0.00</td>\n      <td>100.00</td>\n      <td>518.67</td>\n      <td>641.82</td>\n      <td>1589.70</td>\n      <td>1400.60</td>\n      <td>14.62</td>\n      <td>...</td>\n      <td>2388.02</td>\n      <td>8138.62</td>\n      <td>8.42</td>\n      <td>0.03</td>\n      <td>392</td>\n      <td>2388</td>\n      <td>100.00</td>\n      <td>39.06</td>\n      <td>23.42</td>\n      <td>191</td>\n    </tr>\n    <tr>\n      <th>1</th>\n      <td>1</td>\n      <td>2</td>\n      <td>0.00</td>\n      <td>-0.00</td>\n      <td>100.00</td>\n      <td>518.67</td>\n      <td>642.15</td>\n      <td>1591.82</td>\n      <td>1403.14</td>\n      <td>14.62</td>\n      <td>...</td>\n      <td>2388.07</td>\n      <td>8131.49</td>\n      <td>8.43</td>\n      <td>0.03</td>\n      <td>392</td>\n      <td>2388</td>\n      <td>100.00</td>\n      <td>39.00</td>\n      <td>23.42</td>\n      <td>190</td>\n    </tr>\n    <tr>\n      <th>2</th>\n      <td>1</td>\n      <td>3</td>\n      <td>-0.00</td>\n      <td>0.00</td>\n      <td>100.00</td>\n      <td>518.67</td>\n      <td>642.35</td>\n      <td>1587.99</td>\n      <td>1404.20</td>\n      <td>14.62</td>\n      <td>...</td>\n      <td>2388.03</td>\n      <td>8133.23</td>\n      <td>8.42</td>\n      <td>0.03</td>\n      <td>390</td>\n      <td>2388</td>\n      <td>100.00</td>\n      <td>38.95</td>\n      <td>23.34</td>\n      <td>189</td>\n    </tr>\n    <tr>\n      <th>3</th>\n      <td>1</td>\n      <td>4</td>\n      <td>0.00</td>\n      <td>0.00</td>\n      <td>100.00</td>\n      <td>518.67</td>\n      <td>642.35</td>\n      <td>1582.79</td>\n      <td>1401.87</td>\n      <td>14.62</td>\n      <td>...</td>\n      <td>2388.08</td>\n      <td>8133.83</td>\n      <td>8.37</td>\n      <td>0.03</td>\n      <td>392</td>\n      <td>2388</td>\n      <td>100.00</td>\n      <td>38.88</td>\n      <td>23.37</td>\n      <td>188</td>\n    </tr>\n    <tr>\n      <th>4</th>\n      <td>1</td>\n      <td>5</td>\n      <td>-0.00</td>\n      <td>-0.00</td>\n      <td>100.00</td>\n      <td>518.67</td>\n      <td>642.37</td>\n      <td>1582.85</td>\n      <td>1406.22</td>\n      <td>14.62</td>\n      <td>...</td>\n      <td>2388.04</td>\n      <td>8133.80</td>\n      <td>8.43</td>\n      <td>0.03</td>\n      <td>393</td>\n      <td>2388</td>\n      <td>100.00</td>\n      <td>38.90</td>\n      <td>23.40</td>\n      <td>187</td>\n    </tr>\n  </tbody>\n</table>\n<p>5 rows × 27 columns</p>\n</div>",
            "text/plain": "   unit  cycle   os1   os2    os3    sm1    sm2     sm3     sm4   sm5 ...   \\\n0  1     1     -0.00 -0.00 100.00 518.67 641.82 1589.70 1400.60 14.62 ...    \n1  1     2     0.00  -0.00 100.00 518.67 642.15 1591.82 1403.14 14.62 ...    \n2  1     3     -0.00 0.00  100.00 518.67 642.35 1587.99 1404.20 14.62 ...    \n3  1     4     0.00  0.00  100.00 518.67 642.35 1582.79 1401.87 14.62 ...    \n4  1     5     -0.00 -0.00 100.00 518.67 642.37 1582.85 1406.22 14.62 ...    \n\n     sm13    sm14  sm15  sm16  sm17  sm18   sm19  sm20  sm21  rul  \n0 2388.02 8138.62 8.42  0.03   392   2388 100.00 39.06 23.42  191  \n1 2388.07 8131.49 8.43  0.03   392   2388 100.00 39.00 23.42  190  \n2 2388.03 8133.23 8.42  0.03   390   2388 100.00 38.95 23.34  189  \n3 2388.08 8133.83 8.37  0.03   392   2388 100.00 38.88 23.37  188  \n4 2388.04 8133.80 8.43  0.03   393   2388 100.00 38.90 23.40  187  \n\n[5 rows x 27 columns]"
          },
          "metadata": {}
        }
      ]
    },
    {
      "metadata": {},
      "cell_type": "markdown",
      "source": "First note that the sensor measurements do seem to be changing as we near 0 RUL. This implies that we should be able to make a model that will be useful enough for business value.\n\nWe are now ready to train a model on this data using Automated ML."
    },
    {
      "metadata": {},
      "cell_type": "markdown",
      "source": "## 1. Preparing the Azure Machine Learning Workspace"
    },
    {
      "metadata": {
        "ExecuteTime": {
          "start_time": "2019-05-07T22:34:58.727961Z",
          "end_time": "2019-05-07T22:35:02.049316Z"
        },
        "trusted": true
      },
      "cell_type": "code",
      "source": "!pip install --upgrade azureml-sdk",
      "execution_count": null,
      "outputs": []
    },
    {
      "metadata": {},
      "cell_type": "markdown",
      "source": "Import Azure ML libs for automated ML"
    },
    {
      "metadata": {
        "trusted": true,
        "ExecuteTime": {
          "start_time": "2019-05-07T22:41:27.256813Z",
          "end_time": "2019-05-07T22:41:27.267161Z"
        }
      },
      "cell_type": "code",
      "source": "import logging\nimport os\nimport random\nimport time\n\nfrom matplotlib import pyplot as plt\nfrom matplotlib.pyplot import imshow\nimport numpy as np\nimport pandas as pd\n\nimport azureml.core\nfrom azureml.core.experiment import Experiment\nfrom azureml.core.workspace import Workspace\nfrom azureml.train.automl import AutoMLConfig\nfrom azureml.train.automl.run import AutoMLRun\nfrom azureml.widgets import RunDetails\nfrom azureml.core.model import Model",
      "execution_count": 13,
      "outputs": []
    },
    {
      "metadata": {},
      "cell_type": "markdown",
      "source": "Provide your Machine Learning Workspace credentials to run AutoML. You will need to perform Microsoft's MFA. Please follow the manual auth instructions."
    },
    {
      "metadata": {
        "trusted": true,
        "ExecuteTime": {
          "start_time": "2019-05-07T23:07:03.020098Z",
          "end_time": "2019-05-07T23:07:03.024482Z"
        }
      },
      "cell_type": "code",
      "source": "subscription_id = \"<Your SubscriptionId>\" #you should be owner or contributor\nresource_group = \"automl_nasa_newrg\" #you should be owner or contributor\nworkspace_name = \"automatedml_nasa_aznb\" #your workspace name\nworkspace_region = \"West US 2\" #your region",
      "execution_count": 2,
      "outputs": []
    },
    {
      "metadata": {},
      "cell_type": "markdown",
      "source": "Create Azure ML workspace"
    },
    {
      "metadata": {
        "trusted": true,
        "ExecuteTime": {
          "start_time": "2019-05-07T22:43:38.423922Z",
          "end_time": "2019-05-07T22:45:17.688406Z"
        }
      },
      "cell_type": "code",
      "source": "# Import the Workspace class and check the Azure ML SDK version.\nfrom azureml.core import Workspace\n\nws = Workspace.create(name = workspace_name,\n                      subscription_id = subscription_id,\n                      resource_group = resource_group, \n                      location = workspace_region,                      \n                      exist_ok=True)\nws.get_details()",
      "execution_count": null,
      "outputs": []
    },
    {
      "metadata": {},
      "cell_type": "markdown",
      "source": "Write config to cluster"
    },
    {
      "metadata": {
        "trusted": true,
        "ExecuteTime": {
          "start_time": "2019-05-07T22:45:24.61196Z",
          "end_time": "2019-05-07T22:45:25.560661Z"
        }
      },
      "cell_type": "code",
      "source": "from azureml.core import Workspace\n\nws = Workspace(workspace_name = workspace_name,\n               subscription_id = subscription_id,\n               resource_group = resource_group)\n\n# Persist the subscription id, resource group name, and workspace name in aml_config/config.json.\nws.write_config()",
      "execution_count": 17,
      "outputs": []
    },
    {
      "metadata": {},
      "cell_type": "markdown",
      "source": "Define the experiment name"
    },
    {
      "metadata": {
        "trusted": true,
        "ExecuteTime": {
          "start_time": "2019-05-07T23:07:06.195697Z",
          "end_time": "2019-05-07T23:07:06.345897Z"
        }
      },
      "cell_type": "code",
      "source": "# Choose a name for the experiment and specify the project folder.\nexperiment_name = 'automl-predictive-rul'\nproject_folder = './sample_projects/automl-demo-predmain'\n\nexperiment = Experiment(ws, experiment_name)\n\noutput = {}\noutput['SDK version'] = azureml.core.VERSION\noutput['Subscription ID'] = ws.subscription_id\noutput['Workspace Name'] = ws.name\noutput['Resource Group'] = ws.resource_group\noutput['Location'] = ws.location\noutput['Project Directory'] = project_folder\noutput['Experiment Name'] = experiment.name\npd.set_option('display.max_colwidth', -1)\npd.DataFrame(data = output, index = ['']).T",
      "execution_count": null,
      "outputs": []
    },
    {
      "metadata": {},
      "cell_type": "markdown",
      "source": "Create training data"
    },
    {
      "metadata": {
        "trusted": true,
        "ExecuteTime": {
          "start_time": "2019-05-07T22:46:15.502383Z",
          "end_time": "2019-05-07T22:46:15.510741Z"
        }
      },
      "cell_type": "code",
      "source": "# put training data into X and Y arrays\nX_train = train_new.iloc[:,2:26].values\ny_train = train_new.iloc[:,26:27].values.astype(int).flatten()",
      "execution_count": 24,
      "outputs": []
    },
    {
      "metadata": {},
      "cell_type": "markdown",
      "source": "Format data into arrays that AutoML will use to train models.  Below is one row of X and Y as an example."
    },
    {
      "metadata": {
        "trusted": true,
        "ExecuteTime": {
          "start_time": "2019-05-07T22:46:18.96615Z",
          "end_time": "2019-05-07T22:46:18.972512Z"
        }
      },
      "cell_type": "code",
      "source": "X_train[0]",
      "execution_count": 25,
      "outputs": [
        {
          "output_type": "execute_result",
          "execution_count": 25,
          "data": {
            "text/plain": "array([-7.00000e-04, -4.00000e-04,  1.00000e+02,  5.18670e+02,\n        6.41820e+02,  1.58970e+03,  1.40060e+03,  1.46200e+01,\n        2.16100e+01,  5.54360e+02,  2.38806e+03,  9.04619e+03,\n        1.30000e+00,  4.74700e+01,  5.21660e+02,  2.38802e+03,\n        8.13862e+03,  8.41950e+00,  3.00000e-02,  3.92000e+02,\n        2.38800e+03,  1.00000e+02,  3.90600e+01,  2.34190e+01])"
          },
          "metadata": {}
        }
      ]
    },
    {
      "metadata": {
        "trusted": true,
        "ExecuteTime": {
          "start_time": "2019-05-07T22:46:19.841566Z",
          "end_time": "2019-05-07T22:46:19.851869Z"
        }
      },
      "cell_type": "code",
      "source": "y_train[0]",
      "execution_count": 26,
      "outputs": [
        {
          "output_type": "execute_result",
          "execution_count": 26,
          "data": {
            "text/plain": "191"
          },
          "metadata": {}
        }
      ]
    },
    {
      "metadata": {
        "trusted": true,
        "ExecuteTime": {
          "start_time": "2019-05-07T22:46:20.374116Z",
          "end_time": "2019-05-07T22:46:20.400258Z"
        }
      },
      "cell_type": "code",
      "source": "from sklearn.model_selection import train_test_split\nX_train, X_valid, y_train, y_valid = train_test_split(X_train,\n                                                    y_train,\n                                                    test_size=0.3,\n                                                    random_state=100)\n\nX_valid, X_test, y_valid, y_test = train_test_split(X_valid,\n                                                    y_valid,\n                                                    test_size=0.3,\n                                                    random_state=100)\n\nX_train = pd.DataFrame(X_train)\nX_valid = pd.DataFrame(X_valid)\nX_test = pd.DataFrame(X_test)",
      "execution_count": 27,
      "outputs": []
    },
    {
      "metadata": {
        "trusted": true,
        "ExecuteTime": {
          "start_time": "2019-05-07T22:46:22.992165Z",
          "end_time": "2019-05-07T22:46:23.00069Z"
        }
      },
      "cell_type": "code",
      "source": "X_test[0:1].values.tolist()",
      "execution_count": 28,
      "outputs": [
        {
          "output_type": "execute_result",
          "execution_count": 28,
          "data": {
            "text/plain": "[[-0.0014,\n  0.0004,\n  100.0,\n  518.67,\n  642.93,\n  1592.39,\n  1407.61,\n  14.62,\n  21.61,\n  553.5,\n  2388.12,\n  9059.72,\n  1.3,\n  47.65,\n  521.36,\n  2388.08,\n  8133.52,\n  8.4613,\n  0.03,\n  393.0,\n  2388.0,\n  100.0,\n  38.6,\n  23.3778]]"
          },
          "metadata": {}
        }
      ]
    },
    {
      "metadata": {},
      "cell_type": "markdown",
      "source": "Enable Telemetry"
    },
    {
      "metadata": {
        "trusted": true,
        "ExecuteTime": {
          "start_time": "2019-05-07T22:46:24.548616Z",
          "end_time": "2019-05-07T22:46:24.553386Z"
        }
      },
      "cell_type": "code",
      "source": "from azureml.telemetry import set_diagnostics_collection\nset_diagnostics_collection(send_diagnostics = True)",
      "execution_count": 29,
      "outputs": [
        {
          "output_type": "stream",
          "text": "Turning diagnostics collection on. \n",
          "name": "stdout"
        }
      ]
    },
    {
      "metadata": {},
      "cell_type": "markdown",
      "source": "Now we are ready to configure automated ML.  We provide necessary information on: what we want to predict, what accuracy metric we want to use, how many models we want to try, and many other parameters.  AutoML will also automatically scale the data for us."
    },
    {
      "metadata": {},
      "cell_type": "markdown",
      "source": "## 2. Getting started with Automated ML\n\nYou can use these params.\n\n|Property|Description|\n|-|-|\n|**task**|classification or regression|\n|**primary_metric**|This is the metric that you want to optimize. Classification supports the following primary metrics: <br><i>accuracy</i><br><i>AUC_weighted</i><br><i>average_precision_score_weighted</i><br><i>norm_macro_recall</i><br><i>precision_score_weighted</i>|\n|**primary_metric**|This is the metric that you want to optimize. Regression supports the following primary metrics: <br><i>spearman_correlation</i><br><i>normalized_root_mean_squared_error</i><br><i>r2_score</i><br><i>normalized_mean_absolute_error</i>|\n|**iteration_timeout_minutes**|Time limit in minutes for each iteration.|\n|**iterations**|Number of iterations. In each iteration AutoML trains a specific pipeline with the data.|\n|**n_cross_validations**|Number of cross validation splits.|\n|**X**|(sparse) array-like, shape = [n_samples, n_features]|\n|**y**|(sparse) array-like, shape = [n_samples, ], [n_samples, n_classes]<br>Multi-class targets. An indicator matrix turns on multilabel classification. This should be an array of integers.|\n|**path**|Relative path to the project folder. AutoML stores configuration files for the experiment under this folder. You can specify a new empty folder.|\n|**preprocess**|set this to True to enable pre-processing of data eg. string to numeric using one-hot encoding|\n|**exit_score**|Target score for experiment. It is associated with the metric. eg. exit_score=0.995 will exit experiment after that|"
    },
    {
      "metadata": {
        "trusted": true,
        "ExecuteTime": {
          "start_time": "2019-05-07T22:49:13.702729Z",
          "end_time": "2019-05-07T22:49:13.71286Z"
        }
      },
      "cell_type": "code",
      "source": "##Local compute \nAutoml_config = AutoMLConfig(task = 'regression',\n                             primary_metric = 'r2_score',\n                             iteration_timeout_minutes = 15,\n                             iterations = 10,\n                             max_cores_per_iteration = 1,\n                             preprocess = False,\n                             experiment_exit_score = 0.985,\n                             X = X_train,\n                             y = y_train,\n                             X_valid = X_valid,\n                             y_valid = y_valid,\n                             #n_cross_validations = 3,\n                             debug_log = 'automl_errors.log',\n                             verbosity=logging.ERROR,\n                             #model_explainability=True,\n                             path=project_folder)",
      "execution_count": 31,
      "outputs": []
    },
    {
      "metadata": {},
      "cell_type": "markdown",
      "source": "Finally we are ready to launch AutoML.  This step can take many minutes, but AutoML will give you updates as models are trained and evaluated by the metric we specified above.  AutoML also let us know which scaling method was used.  The information from each ML model training will be stored in the Experiment section of the ML Workspace, where we can review it through Azure Portal."
    },
    {
      "metadata": {
        "trusted": true,
        "ExecuteTime": {
          "start_time": "2019-05-07T22:49:17.490384Z",
          "end_time": "2019-05-07T22:52:47.251914Z"
        }
      },
      "cell_type": "code",
      "source": "# Train multiple models using AutoML\nexperiment=Experiment(ws, experiment_name)\nlocal_run = experiment.submit(Automl_config, show_output=True)",
      "execution_count": 32,
      "outputs": [
        {
          "output_type": "stream",
          "text": "Running on local machine\nParent Run ID: AutoML_d781db81-9575-404a-af20-b5f1d08198dc\nCurrent status: ModelSelection. Beginning model selection.\n\n****************************************************************************************************\nITERATION: The iteration being evaluated.\nPIPELINE: A summary description of the pipeline being evaluated.\nDURATION: Time taken for the current iteration.\nMETRIC: The result of computing score on the fitted pipeline.\nBEST: The best observed score thus far.\n****************************************************************************************************\n\n ITERATION   PIPELINE                                       DURATION      METRIC      BEST\n         0   StandardScalerWrapper LightGBM                 0:00:22       0.6113    0.6113\n         1   MaxAbsScaler LightGBM                          0:00:17       0.6091    0.6113\n         2   StandardScalerWrapper ExtremeRandomTrees       0:00:13       0.5432    0.6113\n         3   RobustScaler LightGBM                          0:00:18       0.6114    0.6114\n         4   StandardScalerWrapper LightGBM                 0:00:13       0.6282    0.6282\n         5   StandardScalerWrapper LightGBM                 0:00:12       0.6293    0.6293\n         6   StandardScalerWrapper ElasticNet               0:00:11       0.5881    0.6293\n         7   StandardScalerWrapper ExtremeRandomTrees       0:00:11       0.6176    0.6293\n         8   VotingEnsemble                                 0:00:39       0.6430    0.6430\n         9   StackEnsemble                                  0:00:41       0.6435    0.6435\n",
          "name": "stdout"
        }
      ]
    },
    {
      "metadata": {},
      "cell_type": "markdown",
      "source": "### Visualize the run using the widget "
    },
    {
      "metadata": {
        "trusted": true,
        "ExecuteTime": {
          "start_time": "2019-05-07T22:53:21.347875Z",
          "end_time": "2019-05-07T22:53:21.428905Z"
        }
      },
      "cell_type": "code",
      "source": "RunDetails(local_run).show()",
      "execution_count": 33,
      "outputs": [
        {
          "output_type": "display_data",
          "data": {
            "application/vnd.jupyter.widget-view+json": {
              "model_id": "8da17bbc046449fea5c3e839372106e6",
              "version_minor": 0,
              "version_major": 2
            },
            "text/plain": "_AutoMLWidget(widget_settings={'childWidgetDisplay': 'popup', 'send_telemetry': True, 'log_level': 'INFO', 'sd…"
          },
          "metadata": {}
        }
      ]
    },
    {
      "metadata": {},
      "cell_type": "markdown",
      "source": "We now get the best model"
    },
    {
      "metadata": {
        "trusted": true,
        "ExecuteTime": {
          "start_time": "2019-05-07T22:53:28.904995Z",
          "end_time": "2019-05-07T22:53:37.878431Z"
        }
      },
      "cell_type": "code",
      "source": "# find the run with the highest accuracy value.\nbest_run, fitted_model = local_run.get_output()\nprint(best_run)",
      "execution_count": 34,
      "outputs": [
        {
          "output_type": "stream",
          "text": "Run(Experiment: automl-predictive-rul,\nId: AutoML_d781db81-9575-404a-af20-b5f1d08198dc_9,\nType: None,\nStatus: Completed)\n",
          "name": "stdout"
        }
      ]
    },
    {
      "metadata": {},
      "cell_type": "markdown",
      "source": "## 3. Deploy Model"
    },
    {
      "metadata": {
        "trusted": true,
        "ExecuteTime": {
          "start_time": "2019-05-07T22:53:52.176413Z",
          "end_time": "2019-05-07T22:54:03.53171Z"
        }
      },
      "cell_type": "code",
      "source": "# register best model in workspace\ndescription = 'AutoML-RUL-Regression-20190507'\ntags = None\nmodel = local_run.register_model(description = description, tags = tags)\n\nprint(local_run.model_id) # This will be written to the script file later in the notebook.",
      "execution_count": 35,
      "outputs": [
        {
          "output_type": "stream",
          "text": "Registering model AutoMLd781db819best\nAutoMLd781db819best\n",
          "name": "stdout"
        }
      ]
    },
    {
      "metadata": {},
      "cell_type": "markdown",
      "source": "After we register the model in our ML Workspace, it should be visible in Azure Portal.\n\nNow we want to deploy the model as a REST API that we can feed a row or rows of \"X\" data to, and return the predicted 'RUL' value.  To accomplish this, we will build a container image in our AML Workspace and deploy that image as a Container instance in Azure's ACI service.  We will then obtain an IP address where we can submit data and receive back the predicted 'RUL' value.\n\nThere are 3 things we need: \n1. A score.py file that contains the init() and run() functions with instructions on how to load and socre with the model\n2. A myenv.yml file that contains information on the python environment in which the model needs to run\n3. Configurations for our images and our services, using functions provided by AzureML service.\n\nThe cells below help you set these up.   You will need to use the registered model name provided by the cell above."
    },
    {
      "metadata": {
        "trusted": true,
        "ExecuteTime": {
          "start_time": "2019-05-07T22:54:12.895626Z",
          "end_time": "2019-05-07T22:54:13.019428Z"
        }
      },
      "cell_type": "code",
      "source": "%%writefile score.py\nimport pickle\nimport json\nimport numpy\nimport azureml.train.automl\nfrom sklearn.externals import joblib\nfrom azureml.core.model import Model\n\n\ndef init():\n    global model\n    model_path = Model.get_model_path(model_name = '<<modelid>>') # this name is model.id of model that we want to deploy\n    # deserialize the model file back into a sklearn model\n    model = joblib.load(model_path)\n\ndef run(rawdata):\n    try:\n        data = json.loads(rawdata)['data']\n        data = numpy.array(data)\n        result = model.predict(data)\n    except Exception as e:\n        result = str(e)\n        return json.dumps({\"error\": result})\n    return json.dumps({\"result\":result.tolist()})",
      "execution_count": 36,
      "outputs": [
        {
          "output_type": "stream",
          "text": "Overwriting score.py\n",
          "name": "stdout"
        }
      ]
    },
    {
      "metadata": {
        "trusted": true,
        "ExecuteTime": {
          "start_time": "2019-05-07T22:54:15.700219Z",
          "end_time": "2019-05-07T22:54:16.723449Z"
        }
      },
      "cell_type": "code",
      "source": "experiment = Experiment(ws, experiment_name)\nml_run = AutoMLRun(experiment = experiment, run_id = local_run.id)\ndependencies = ml_run.get_run_sdk_dependencies(iteration = 0)\nfor p in ['azureml-train-automl', 'azureml-sdk', 'azureml-core']:\n    print('{}\\t{}'.format(p, dependencies[p]))",
      "execution_count": 37,
      "outputs": [
        {
          "output_type": "stream",
          "text": "No issues found in the SDK package versions.\nazureml-train-automl\t1.0.33\nazureml-sdk\t1.0.33\nazureml-core\t1.0.33.1\n",
          "name": "stdout"
        }
      ]
    },
    {
      "metadata": {
        "trusted": true,
        "ExecuteTime": {
          "start_time": "2019-05-07T22:54:18.385072Z",
          "end_time": "2019-05-07T22:54:18.509294Z"
        }
      },
      "cell_type": "code",
      "source": "from azureml.core.conda_dependencies import CondaDependencies\n\nmyenv = CondaDependencies.create(conda_packages=['numpy','scikit-learn','lightgbm'], pip_packages=['azureml-sdk[automl]'])\n\nconda_env_file_name = 'myenv.yml'\nmyenv.save_to_file('.', conda_env_file_name)",
      "execution_count": 38,
      "outputs": [
        {
          "output_type": "execute_result",
          "execution_count": 38,
          "data": {
            "text/plain": "'myenv.yml'"
          },
          "metadata": {}
        }
      ]
    },
    {
      "metadata": {
        "trusted": true,
        "ExecuteTime": {
          "start_time": "2019-05-07T22:54:29.044481Z",
          "end_time": "2019-05-07T22:54:29.232691Z"
        }
      },
      "cell_type": "code",
      "source": "# Substitute the actual version number in the environment file.\n# This is not strictly needed in this notebook because the model should have been generated using the current SDK version.\n# However, we include this in case this code is used on an experiment from a previous SDK version.\n\nwith open(conda_env_file_name, 'r') as cefr:\n    content = cefr.read()\n\nwith open(conda_env_file_name, 'w') as cefw:\n    cefw.write(content.replace(azureml.core.VERSION, dependencies['azureml-sdk']))\n\n# Substitute the actual model id in the script file.\n\nscript_file_name = 'score.py'\n\nwith open(script_file_name, 'r') as cefr:\n    content = cefr.read()\n\nwith open(script_file_name, 'w') as cefw:\n    cefw.write(content.replace('<<modelid>>', local_run.model_id))",
      "execution_count": 40,
      "outputs": []
    },
    {
      "metadata": {},
      "cell_type": "markdown",
      "source": "*If the above file does not show \"- azureml-train-automl\" in the pip section, the you need to add it manually*\n\nNow configure the webservice."
    },
    {
      "metadata": {},
      "cell_type": "markdown",
      "source": "Finally, configure the container image and deploy the service. Make sure the filenames match, your Workspace is in variable ws, and your model name is correct. It will create your containter image and deploy it as a webservice.\n\nThis process can take up to 10 minutes, so please be patient. You can check the progress bar periodically ..."
    },
    {
      "metadata": {
        "trusted": true,
        "ExecuteTime": {
          "start_time": "2019-05-07T22:54:38.455872Z",
          "end_time": "2019-05-07T23:00:24.488775Z"
        }
      },
      "cell_type": "code",
      "source": "from azureml.core.image import Image, ContainerImage\n\nimage_config = ContainerImage.image_configuration(runtime= \"python\",\n                                 execution_script = script_file_name,\n                                 conda_file = conda_env_file_name,\n                                 tags = {'area': \"pred maint\", 'type': \"automl_regression\"},\n                                 description = \"Image for automl predictive maintenance NASA\")\n\nimage = Image.create(name = \"automlpredmaintimage\",\n                     # this is the model object \n                     models = [model],\n                     image_config = image_config, \n                     workspace = ws)\n\nimage.wait_for_creation(show_output = True)\n\nif image.creation_state == 'Failed':\n    print(\"Image build log at: \" + image.image_build_log_uri)",
      "execution_count": 41,
      "outputs": [
        {
          "output_type": "stream",
          "text": "Creating image\nRunning..............................................................\nSucceededImage creation operation finished for image automlpredmaintimage:1, operation \"Succeeded\"\n",
          "name": "stdout"
        }
      ]
    },
    {
      "metadata": {
        "trusted": true,
        "ExecuteTime": {
          "start_time": "2019-05-07T23:00:44.135353Z",
          "end_time": "2019-05-07T23:00:44.1445Z"
        }
      },
      "cell_type": "code",
      "source": "from azureml.core.webservice import AciWebservice\n\naciconfig = AciWebservice.deploy_configuration(cpu_cores=1, \n                                               memory_gb=1, \n                                               tags={\"data\": \"RUL\",  \"method\" : \"sklearn\"}, \n                                               description='Predict RUL with Azure AutoML')",
      "execution_count": 42,
      "outputs": []
    },
    {
      "metadata": {
        "scrolled": true,
        "trusted": true,
        "ExecuteTime": {
          "start_time": "2019-05-07T23:00:45.632964Z",
          "end_time": "2019-05-07T23:03:14.809787Z"
        }
      },
      "cell_type": "code",
      "source": "from azureml.core.webservice import Webservice\n\naci_service_name = 'automl-pred-maint'\nprint(aci_service_name)\naci_service = Webservice.deploy_from_image(deployment_config = aciconfig,\n                                           image = image,\n                                           name = aci_service_name,\n                                           workspace = ws)\naci_service.wait_for_deployment(True)\nprint(aci_service.state)",
      "execution_count": 43,
      "outputs": [
        {
          "output_type": "stream",
          "text": "automl-pred-maint\nCreating service\nRunning...........................\nSucceededACI service creation operation finished, operation \"Succeeded\"\nHealthy\n",
          "name": "stdout"
        }
      ]
    },
    {
      "metadata": {},
      "cell_type": "markdown",
      "source": "Just as a check, we can retrieve the URI for the scoring function."
    },
    {
      "metadata": {
        "trusted": true,
        "ExecuteTime": {
          "start_time": "2019-05-07T23:03:40.695004Z",
          "end_time": "2019-05-07T23:03:40.700587Z"
        }
      },
      "cell_type": "code",
      "source": "print(aci_service.scoring_uri)",
      "execution_count": 44,
      "outputs": [
        {
          "output_type": "stream",
          "text": "http://13.83.246.98:80/score\n",
          "name": "stdout"
        }
      ]
    },
    {
      "metadata": {},
      "cell_type": "markdown",
      "source": "Let's check to see if the service is working.  Here we submit a single row of data from X_train to see if it returns a reasonable prediction."
    },
    {
      "metadata": {
        "trusted": true,
        "ExecuteTime": {
          "start_time": "2019-05-07T23:03:41.983837Z",
          "end_time": "2019-05-07T23:03:42.329407Z"
        }
      },
      "cell_type": "code",
      "source": "import requests\nimport json\n\n# send a random row from the test set to score\n#random_index = np.random.randint(0, len(X_train)-1)\ninput_data = \"{\\\"data\\\": \" + str(X_test[1:2].values.tolist()) + \"}\" #str(list(X_train[0].reshape(1,-1)[0])) + \"}\"\n\nheaders = {'Content-Type':'application/json'}\n\n# for AKS deployment you'd need to the service key in the header as well\n# api_key = service.get_key()\n# headers = {'Content-Type':'application/json',  'Authorization':('Bearer '+ api_key)} \n\nresp = requests.post(aci_service.scoring_uri, input_data, headers=headers)\n\nprint(\"POST to url\", aci_service.scoring_uri)\nprint(\"input data:\", input_data)\nprint(\"label:\", y_test[1:2])\nprint(\"prediction:\", resp.text)",
      "execution_count": 45,
      "outputs": [
        {
          "output_type": "stream",
          "text": "POST to url http://13.83.246.98:80/score\ninput data: {\"data\": [[-0.0006, -0.0004, 100.0, 518.67, 642.25, 1589.25, 1412.42, 14.62, 21.61, 553.88, 2388.15, 9043.21, 1.3, 47.45, 521.88, 2388.18, 8131.61, 8.4807, 0.03, 392.0, 2388.0, 100.0, 38.6, 23.2946]]}\nlabel: [154]\nprediction: \"{\\\"result\\\": [118.17594443178578]}\"\n",
          "name": "stdout"
        }
      ]
    },
    {
      "metadata": {},
      "cell_type": "markdown",
      "source": "Here we see one engine evolving through many flights, or cycles.  As we approach failure, the rul declines to zero, as does the prediction.  This is a good example of how the predictive model can assist in estimate the future failure of the engine.\n\nNote that the model does not perform well at high rul.  This is an acceptable outcome as the engine is far from failure."
    },
    {
      "metadata": {},
      "cell_type": "markdown",
      "source": "To avoid any run-away Azure costs, we always delete un-necessary services when we are done."
    },
    {
      "metadata": {
        "trusted": false
      },
      "cell_type": "code",
      "source": "aci_service.delete()",
      "execution_count": null,
      "outputs": []
    }
  ],
  "metadata": {
    "kernelspec": {
      "name": "python36",
      "display_name": "Python 3.6",
      "language": "python"
    },
    "language_info": {
      "mimetype": "text/x-python",
      "nbconvert_exporter": "python",
      "name": "python",
      "pygments_lexer": "ipython3",
      "version": "3.6.6",
      "file_extension": ".py",
      "codemirror_mode": {
        "version": 3,
        "name": "ipython"
      }
    }
  },
  "nbformat": 4,
  "nbformat_minor": 2
}
